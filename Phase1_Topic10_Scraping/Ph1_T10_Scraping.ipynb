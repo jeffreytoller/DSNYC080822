{
 "cells": [
  {
   "cell_type": "markdown",
   "id": "5bcceb3c",
   "metadata": {
    "slideshow": {
     "slide_type": "slide"
    }
   },
   "source": [
    "<div style=\"color:white;\n",
    "           display:fill;\n",
    "           border-radius:5px;\n",
    "           background-color:#5642C5;\n",
    "           font-size:200%;\n",
    "           font-\\amily:Arial;letter-spacing:0.5px\">\n",
    "\n",
    "<p width = 20%, style=\"padding: 10px;\n",
    "              color:white;\">\n",
    "Web Scraping\n",
    "              \n",
    "</p>\n",
    "</div>\n",
    "\n",
    "Data Science Cohort Live NYC Feb 2022\n",
    "<p>Phase 1: Topic 10</p>\n",
    "<br>\n",
    "<br>\n",
    "\n",
    "<div align = \"right\">\n",
    "<img src=\"Images/flatiron-school-logo.png\" align = \"right\" width=\"200\"/>\n",
    "</div>\n",
    "    \n",
    "   "
   ]
  },
  {
   "cell_type": "markdown",
   "id": "3b843ca9",
   "metadata": {
    "slideshow": {
     "slide_type": "slide"
    }
   },
   "source": [
    "Previously:\n",
    "    \n",
    "- Accessed data via API\n",
    "\n",
    "Sometimes no programmatic access to data!\n",
    "- No API exists\n",
    "- No SQL server to interact with.\n",
    "- No csv files to download."
   ]
  },
  {
   "cell_type": "markdown",
   "id": "e2b003c8",
   "metadata": {
    "slideshow": {
     "slide_type": "slide"
    }
   },
   "source": [
    "Many ecommerce sites: no APIs or databases to interact with.\n",
    "<br>\n",
    "<br>\n",
    "\n",
    "<div>\n",
    "<center><img src=\"Images/master_of_malt_menu.png\" width=\"600\"/></center>\n",
    "</div>\n",
    "<center> Master of Malt</center>\n",
    "   "
   ]
  },
  {
   "cell_type": "markdown",
   "id": "093b9a49",
   "metadata": {
    "slideshow": {
     "slide_type": "subslide"
    }
   },
   "source": [
    "<div>\n",
    "<center><img src=\"Images/edradour.png\" width=\"900\"/></center>\n",
    "</div>\n",
    "<center> But I want data from these fields! </center>    "
   ]
  },
  {
   "cell_type": "markdown",
   "id": "7f24d01a",
   "metadata": {
    "slideshow": {
     "slide_type": "slide"
    }
   },
   "source": [
    "The data is in the web site source code...\n",
    "<div>\n",
    "<center><img src=\"Images/source_mom.png\" width=\"1800\"/></center>\n",
    "</div>\n",
    "    <center> Data embedded within a soup of HTML tags </center>   "
   ]
  },
  {
   "cell_type": "markdown",
   "id": "ae0bb9d7",
   "metadata": {
    "slideshow": {
     "slide_type": "slide"
    }
   },
   "source": [
    "Let's take a look at a very simple sample web site."
   ]
  },
  {
   "cell_type": "markdown",
   "id": "65a27f29",
   "metadata": {
    "slideshow": {
     "slide_type": "slide"
    }
   },
   "source": [
    "#### HyperText Markup Language (HTML)\n",
    "\n",
    "Tells a browser how to layout content.\n",
    "\n",
    "- Consists of elements called tags. \n",
    "- The most basic tag is the html tag: specfies everything inside of opening/closing tags is HTML. \n",
    "\n",
    "Take a look at an example website.\n"
   ]
  },
  {
   "cell_type": "markdown",
   "id": "c9c0087e",
   "metadata": {
    "slideshow": {
     "slide_type": "slide"
    }
   },
   "source": [
    "| Tag | Function | \n",
    "| --- | --- |\n",
    "| html | Denotes extent of HTML document |\n",
    "| head | External style sheet definition, metadata, titles |\n",
    "| title | Web page title |\n",
    "| body | Specifies main web page content block |\n",
    "| h1-h6 | Section heading (ordered by decreasing size)|\n",
    "| p | Represents paragraph |\n",
    "| div | Defines division or section of document |\n",
    "| span | Meant for inline or small selection  |\n",
    "| img | Signifies image and defines source |\n",
    "| a | Linking to external sites or internal events  |\n",
    "| ul | Declare unordered (bulleted) list |\n",
    "| li | List item |"
   ]
  },
  {
   "cell_type": "markdown",
   "id": "be2989de",
   "metadata": {
    "slideshow": {
     "slide_type": "slide"
    }
   },
   "source": [
    "#### CSS (Cascading Style Sheets)\n",
    "\n",
    "- Uses class and id modifiers on tag.\n",
    "- Styling:\n",
    "    - Color\n",
    "    - Font\n",
    "    - Spacing,\n",
    "    - etc.\n",
    "- Can use external sheet for styling\n",
    "- Separate content and styling."
   ]
  },
  {
   "cell_type": "markdown",
   "id": "077f1865",
   "metadata": {
    "slideshow": {
     "slide_type": "slide"
    }
   },
   "source": [
    "#### Structure of tag levels\n",
    "- HTML document structured as tree structure:\n",
    "<br>\n",
    "<br>\n",
    "<div>\n",
    "    <center><img src=\"Images/html_tree.png\" width=\"500\"/></center>\n",
    "</div>"
   ]
  },
  {
   "cell_type": "markdown",
   "id": "42570998",
   "metadata": {
    "slideshow": {
     "slide_type": "slide"
    }
   },
   "source": [
    "#### Goal\n",
    "Extract information structured by tags.\n",
    "\n",
    "- Get HTML documents as text.\n",
    "- Parse tags and extract data."
   ]
  },
  {
   "cell_type": "markdown",
   "id": "c7648104",
   "metadata": {
    "slideshow": {
     "slide_type": "slide"
    }
   },
   "source": [
    "#### Web scraping frameworks\n",
    "\n",
    "<div>\n",
    "    <center><img src=\"Images/scrapy.png\" width=\"180\"/></center>\n",
    "</div>\n",
    "<div>\n",
    "<center><img src=\"Images/selenium.png\" width=\"300\"/></center>\n",
    "</div>\n",
    "<div>\n",
    "<center><img src=\"Images/bs4.png\" width=\"300\"/></center>\n",
    "</div>"
   ]
  },
  {
   "cell_type": "markdown",
   "id": "2b1f7891",
   "metadata": {
    "cell_style": "split",
    "slideshow": {
     "slide_type": "slide"
    }
   },
   "source": [
    "We will use:\n",
    "\n",
    "<div>\n",
    "<center><img src=\"Images/bs4.png\" width=\"400\"/></center>\n",
    "</div>"
   ]
  },
  {
   "cell_type": "markdown",
   "id": "e36b9fe2",
   "metadata": {
    "cell_style": "split",
    "slideshow": {
     "slide_type": "-"
    }
   },
   "source": [
    "<div>\n",
    "<center><img src=\"Images/requests.png\" width=\"300\"/></center>\n",
    "</div>"
   ]
  },
  {
   "cell_type": "markdown",
   "id": "5acb7bfd",
   "metadata": {
    "slideshow": {
     "slide_type": "fragment"
    }
   },
   "source": [
    "- **Requests**: grab the HTML content as text.\n",
    "- **BeautifulSoup**: parse the content and extract data."
   ]
  },
  {
   "cell_type": "code",
   "execution_count": 1,
   "id": "84456aa9",
   "metadata": {
    "slideshow": {
     "slide_type": "slide"
    }
   },
   "outputs": [],
   "source": [
    "# import requests\n",
    "import requests"
   ]
  },
  {
   "cell_type": "markdown",
   "id": "f74663f7",
   "metadata": {
    "slideshow": {
     "slide_type": "slide"
    }
   },
   "source": [
    "Make requests on a simple webpage:"
   ]
  },
  {
   "cell_type": "code",
   "execution_count": 2,
   "id": "c3721af9",
   "metadata": {
    "slideshow": {
     "slide_type": "fragment"
    }
   },
   "outputs": [],
   "source": [
    "sample_url = \"http://dataquestio.github.io/web-scraping-pages/simple.html\"\n",
    "r = requests.get(sample_url)"
   ]
  },
  {
   "cell_type": "markdown",
   "id": "1cdfd902",
   "metadata": {
    "slideshow": {
     "slide_type": "slide"
    }
   },
   "source": [
    "Let's get the content:\n",
    "- like .text attribute\n",
    "- returns in byte representation."
   ]
  },
  {
   "cell_type": "code",
   "execution_count": 3,
   "id": "b6da87d5",
   "metadata": {
    "slideshow": {
     "slide_type": "fragment"
    }
   },
   "outputs": [
    {
     "data": {
      "text/plain": [
       "b'<!DOCTYPE html>\\n<html>\\n    <head>\\n        <title>A simple example page</title>\\n    </head>\\n    <body>\\n        <p>Here is some simple content for this page.</p>\\n    </body>\\n</html>'"
      ]
     },
     "execution_count": 3,
     "metadata": {},
     "output_type": "execute_result"
    }
   ],
   "source": [
    "req_content = r.content\n",
    "req_content "
   ]
  },
  {
   "cell_type": "markdown",
   "id": "f9140472",
   "metadata": {
    "slideshow": {
     "slide_type": "slide"
    }
   },
   "source": [
    "- Pretty ugly.\n",
    "- Parse and get relevant data:\n",
    "    - Want to use HTML tree structure.\n",
    "    - Class and id structure.\n",
    "    \n",
    "BeautifulSoup helps us with this:"
   ]
  },
  {
   "cell_type": "code",
   "execution_count": 4,
   "id": "54c74c0b",
   "metadata": {
    "slideshow": {
     "slide_type": "slide"
    }
   },
   "outputs": [],
   "source": [
    "from bs4 import BeautifulSoup"
   ]
  },
  {
   "cell_type": "markdown",
   "id": "997d15c1",
   "metadata": {
    "slideshow": {
     "slide_type": "fragment"
    }
   },
   "source": [
    "Create Soup object with web site content as input."
   ]
  },
  {
   "cell_type": "code",
   "execution_count": 5,
   "id": "90b1b4f4",
   "metadata": {
    "scrolled": false,
    "slideshow": {
     "slide_type": "fragment"
    }
   },
   "outputs": [],
   "source": [
    "soup = BeautifulSoup(req_content, 'html.parser') "
   ]
  },
  {
   "cell_type": "code",
   "execution_count": 6,
   "id": "86c5e042",
   "metadata": {},
   "outputs": [
    {
     "data": {
      "text/plain": [
       "bs4.BeautifulSoup"
      ]
     },
     "execution_count": 6,
     "metadata": {},
     "output_type": "execute_result"
    }
   ],
   "source": [
    "type(soup)"
   ]
  },
  {
   "cell_type": "code",
   "execution_count": 7,
   "id": "6400ae9f",
   "metadata": {
    "slideshow": {
     "slide_type": "subslide"
    }
   },
   "outputs": [
    {
     "name": "stdout",
     "output_type": "stream",
     "text": [
      "<!DOCTYPE html>\n",
      "<html>\n",
      " <head>\n",
      "  <title>\n",
      "   A simple example page\n",
      "  </title>\n",
      " </head>\n",
      " <body>\n",
      "  <p>\n",
      "   Here is some simple content for this page.\n",
      "  </p>\n",
      " </body>\n",
      "</html>\n"
     ]
    }
   ],
   "source": [
    "print(soup.prettify())"
   ]
  },
  {
   "cell_type": "markdown",
   "id": "23d7a226",
   "metadata": {
    "slideshow": {
     "slide_type": "subslide"
    }
   },
   "source": [
    "Soup is parsing structure and hierarchy of tags and content in HTML document.\n",
    "\n",
    "Can go tranverse through tree hierarchy:"
   ]
  },
  {
   "cell_type": "markdown",
   "id": "65574bfd",
   "metadata": {
    "slideshow": {
     "slide_type": "slide"
    }
   },
   "source": [
    "#### Descending through hierarchy"
   ]
  },
  {
   "cell_type": "code",
   "execution_count": 8,
   "id": "c1474ca2",
   "metadata": {
    "slideshow": {
     "slide_type": "subslide"
    }
   },
   "outputs": [
    {
     "data": {
      "text/plain": [
       "<!DOCTYPE html>\n",
       "\n",
       "<html>\n",
       "<head>\n",
       "<title>A simple example page</title>\n",
       "</head>\n",
       "<body>\n",
       "<p>Here is some simple content for this page.</p>\n",
       "</body>\n",
       "</html>"
      ]
     },
     "execution_count": 8,
     "metadata": {},
     "output_type": "execute_result"
    }
   ],
   "source": [
    "soup"
   ]
  },
  {
   "cell_type": "code",
   "execution_count": 9,
   "id": "86d767fb",
   "metadata": {
    "slideshow": {
     "slide_type": "subslide"
    }
   },
   "outputs": [
    {
     "data": {
      "text/plain": [
       "<html>\n",
       "<head>\n",
       "<title>A simple example page</title>\n",
       "</head>\n",
       "<body>\n",
       "<p>Here is some simple content for this page.</p>\n",
       "</body>\n",
       "</html>"
      ]
     },
     "execution_count": 9,
     "metadata": {},
     "output_type": "execute_result"
    }
   ],
   "source": [
    "html_level = soup.html\n",
    "html_level"
   ]
  },
  {
   "cell_type": "markdown",
   "id": "6c9d6533",
   "metadata": {
    "slideshow": {
     "slide_type": "slide"
    }
   },
   "source": [
    ".contents attribute: gets list of tag's children"
   ]
  },
  {
   "cell_type": "code",
   "execution_count": 71,
   "id": "86d21df4",
   "metadata": {
    "slideshow": {
     "slide_type": "fragment"
    }
   },
   "outputs": [
    {
     "data": {
      "text/plain": [
       "['\\n',\n",
       " <head>\n",
       " <title>A simple example page</title>\n",
       " </head>,\n",
       " '\\n',\n",
       " <body>\n",
       " <p>Here is some simple content for this page.</p>\n",
       " </body>,\n",
       " '\\n']"
      ]
     },
     "execution_count": 71,
     "metadata": {},
     "output_type": "execute_result"
    }
   ],
   "source": [
    "html_level.contents"
   ]
  },
  {
   "cell_type": "markdown",
   "id": "16d875b9",
   "metadata": {
    "slideshow": {
     "slide_type": "slide"
    }
   },
   "source": [
    "Can also yield children as iterator:"
   ]
  },
  {
   "cell_type": "code",
   "execution_count": 10,
   "id": "cc647974",
   "metadata": {
    "slideshow": {
     "slide_type": "fragment"
    }
   },
   "outputs": [
    {
     "name": "stdout",
     "output_type": "stream",
     "text": [
      "\n",
      "\n",
      "<head>\n",
      "<title>A simple example page</title>\n",
      "</head>\n",
      "\n",
      "\n",
      "<body>\n",
      "<p>Here is some simple content for this page.</p>\n",
      "</body>\n",
      "\n",
      "\n"
     ]
    },
    {
     "data": {
      "text/plain": [
       "['\\n',\n",
       " <head>\n",
       " <title>A simple example page</title>\n",
       " </head>,\n",
       " '\\n',\n",
       " <body>\n",
       " <p>Here is some simple content for this page.</p>\n",
       " </body>,\n",
       " '\\n']"
      ]
     },
     "execution_count": 10,
     "metadata": {},
     "output_type": "execute_result"
    }
   ],
   "source": [
    "for x in html_level.children:\n",
    "    print(x)\n",
    "\n",
    "list(html_level)"
   ]
  },
  {
   "cell_type": "markdown",
   "id": "8cd7bc13",
   "metadata": {
    "slideshow": {
     "slide_type": "slide"
    }
   },
   "source": [
    "Let's go down the body branch:\n",
    "- Can address body child as an attribute of previous level."
   ]
  },
  {
   "cell_type": "code",
   "execution_count": 11,
   "id": "c629858f",
   "metadata": {
    "slideshow": {
     "slide_type": "fragment"
    }
   },
   "outputs": [
    {
     "data": {
      "text/plain": [
       "<body>\n",
       "<p>Here is some simple content for this page.</p>\n",
       "</body>"
      ]
     },
     "execution_count": 11,
     "metadata": {},
     "output_type": "execute_result"
    }
   ],
   "source": [
    "body_level = html_level.body\n",
    "body_level"
   ]
  },
  {
   "cell_type": "markdown",
   "id": "1e6d8db0",
   "metadata": {
    "slideshow": {
     "slide_type": "subslide"
    }
   },
   "source": [
    "There's another level left down this branch:"
   ]
  },
  {
   "cell_type": "code",
   "execution_count": 12,
   "id": "48607e5a",
   "metadata": {
    "slideshow": {
     "slide_type": "-"
    }
   },
   "outputs": [
    {
     "data": {
      "text/plain": [
       "<body>\n",
       "<p>Here is some simple content for this page.</p>\n",
       "</body>"
      ]
     },
     "execution_count": 12,
     "metadata": {},
     "output_type": "execute_result"
    }
   ],
   "source": [
    "body_level"
   ]
  },
  {
   "cell_type": "code",
   "execution_count": 13,
   "id": "6ac744c0",
   "metadata": {
    "slideshow": {
     "slide_type": "fragment"
    }
   },
   "outputs": [
    {
     "data": {
      "text/plain": [
       "<p>Here is some simple content for this page.</p>"
      ]
     },
     "execution_count": 13,
     "metadata": {},
     "output_type": "execute_result"
    }
   ],
   "source": [
    "p_level = body_level.p\n",
    "p_level"
   ]
  },
  {
   "cell_type": "markdown",
   "id": "9018e7d6",
   "metadata": {},
   "source": [
    "Note: this only gets the first p tag.\n",
    "- If want more: need to use .find_all()"
   ]
  },
  {
   "cell_type": "markdown",
   "id": "2a8e376a",
   "metadata": {
    "slideshow": {
     "slide_type": "slide"
    }
   },
   "source": [
    "Get the text inside the tag:\n",
    "- .text attribute"
   ]
  },
  {
   "cell_type": "code",
   "execution_count": 14,
   "id": "5dd153d1",
   "metadata": {
    "slideshow": {
     "slide_type": "fragment"
    }
   },
   "outputs": [
    {
     "data": {
      "text/plain": [
       "'Here is some simple content for this page.'"
      ]
     },
     "execution_count": 14,
     "metadata": {},
     "output_type": "execute_result"
    }
   ],
   "source": [
    "p_level.text"
   ]
  },
  {
   "cell_type": "markdown",
   "id": "87c29f9f",
   "metadata": {
    "slideshow": {
     "slide_type": "slide"
    }
   },
   "source": [
    "#### Going up levels\n",
    "We can also go the other way:"
   ]
  },
  {
   "cell_type": "code",
   "execution_count": 15,
   "id": "12beeca8",
   "metadata": {
    "slideshow": {
     "slide_type": "fragment"
    }
   },
   "outputs": [
    {
     "data": {
      "text/plain": [
       "<body>\n",
       "<p>Here is some simple content for this page.</p>\n",
       "</body>"
      ]
     },
     "execution_count": 15,
     "metadata": {},
     "output_type": "execute_result"
    }
   ],
   "source": [
    "p_level.parent"
   ]
  },
  {
   "cell_type": "markdown",
   "id": "d9b111a7",
   "metadata": {
    "slideshow": {
     "slide_type": "fragment"
    }
   },
   "source": [
    "Not too shabby."
   ]
  },
  {
   "cell_type": "markdown",
   "id": "04ea5d30",
   "metadata": {
    "slideshow": {
     "slide_type": "slide"
    }
   },
   "source": [
    "#### Going sideways\n",
    "- Traversing through siblings"
   ]
  },
  {
   "cell_type": "code",
   "execution_count": 16,
   "id": "04db60a4",
   "metadata": {
    "cell_style": "split",
    "slideshow": {
     "slide_type": "subslide"
    }
   },
   "outputs": [
    {
     "data": {
      "text/plain": [
       "<html>\n",
       "<head>\n",
       "<title>A simple example page</title>\n",
       "</head>\n",
       "<body>\n",
       "<p>Here is some simple content for this page.</p>\n",
       "</body>\n",
       "</html>"
      ]
     },
     "execution_count": 16,
     "metadata": {},
     "output_type": "execute_result"
    }
   ],
   "source": [
    "html_level"
   ]
  },
  {
   "cell_type": "code",
   "execution_count": 17,
   "id": "50324e64",
   "metadata": {
    "cell_style": "split",
    "slideshow": {
     "slide_type": "fragment"
    }
   },
   "outputs": [
    {
     "data": {
      "text/plain": [
       "<body>\n",
       "<p>Here is some simple content for this page.</p>\n",
       "</body>"
      ]
     },
     "execution_count": 17,
     "metadata": {},
     "output_type": "execute_result"
    }
   ],
   "source": [
    "body_level"
   ]
  },
  {
   "cell_type": "code",
   "execution_count": 18,
   "id": "504852d5",
   "metadata": {
    "cell_style": "split",
    "slideshow": {
     "slide_type": "fragment"
    }
   },
   "outputs": [
    {
     "data": {
      "text/plain": [
       "['\\n',\n",
       " <head>\n",
       " <title>A simple example page</title>\n",
       " </head>,\n",
       " '\\n']"
      ]
     },
     "execution_count": 18,
     "metadata": {},
     "output_type": "execute_result"
    }
   ],
   "source": [
    "list(body_level.previous_siblings)"
   ]
  },
  {
   "cell_type": "markdown",
   "id": "fe32fcb9",
   "metadata": {
    "slideshow": {
     "slide_type": "slide"
    }
   },
   "source": [
    "Let's have a gander at a slightly more complex website:"
   ]
  },
  {
   "cell_type": "code",
   "execution_count": 19,
   "id": "90199642",
   "metadata": {
    "scrolled": true,
    "slideshow": {
     "slide_type": "subslide"
    }
   },
   "outputs": [
    {
     "data": {
      "text/plain": [
       "<html>\n",
       "<head>\n",
       "<title>A simple example page</title>\n",
       "</head>\n",
       "<body>\n",
       "<div>\n",
       "<p class=\"inner-text first-item\" id=\"first\">\n",
       "                First paragraph.\n",
       "            </p>\n",
       "<p class=\"inner-text\">\n",
       "                Second paragraph.\n",
       "            </p>\n",
       "</div>\n",
       "<p class=\"outer-text first-item\" id=\"second\">\n",
       "<b>\n",
       "                First outer paragraph.\n",
       "            </b>\n",
       "</p>\n",
       "<p class=\"outer-text\">\n",
       "<b>\n",
       "                Second outer paragraph.\n",
       "            </b>\n",
       "</p>\n",
       "</body>\n",
       "</html>"
      ]
     },
     "execution_count": 19,
     "metadata": {},
     "output_type": "execute_result"
    }
   ],
   "source": [
    "page = requests.get(\"http://dataquestio.github.io/web-scraping-pages/ids_and_classes.html\")\n",
    "soup = BeautifulSoup(page.content)\n",
    "soup"
   ]
  },
  {
   "cell_type": "markdown",
   "id": "e0dbc377",
   "metadata": {
    "slideshow": {
     "slide_type": "slide"
    }
   },
   "source": [
    "Going down to the body level:"
   ]
  },
  {
   "cell_type": "code",
   "execution_count": 20,
   "id": "e94c1379",
   "metadata": {
    "slideshow": {
     "slide_type": "fragment"
    }
   },
   "outputs": [
    {
     "data": {
      "text/plain": [
       "<body>\n",
       "<div>\n",
       "<p class=\"inner-text first-item\" id=\"first\">\n",
       "                First paragraph.\n",
       "            </p>\n",
       "<p class=\"inner-text\">\n",
       "                Second paragraph.\n",
       "            </p>\n",
       "</div>\n",
       "<p class=\"outer-text first-item\" id=\"second\">\n",
       "<b>\n",
       "                First outer paragraph.\n",
       "            </b>\n",
       "</p>\n",
       "<p class=\"outer-text\">\n",
       "<b>\n",
       "                Second outer paragraph.\n",
       "            </b>\n",
       "</p>\n",
       "</body>"
      ]
     },
     "execution_count": 20,
     "metadata": {},
     "output_type": "execute_result"
    }
   ],
   "source": [
    "body_level = soup.html.body\n",
    "body_level"
   ]
  },
  {
   "cell_type": "markdown",
   "id": "2e5376d0",
   "metadata": {
    "slideshow": {
     "slide_type": "slide"
    }
   },
   "source": [
    "Want all p tags:"
   ]
  },
  {
   "cell_type": "code",
   "execution_count": 21,
   "id": "b84fe634",
   "metadata": {
    "slideshow": {
     "slide_type": "fragment"
    }
   },
   "outputs": [
    {
     "data": {
      "text/plain": [
       "<p class=\"inner-text first-item\" id=\"first\">\n",
       "                First paragraph.\n",
       "            </p>"
      ]
     },
     "execution_count": 21,
     "metadata": {},
     "output_type": "execute_result"
    }
   ],
   "source": [
    "body_level.p"
   ]
  },
  {
   "cell_type": "markdown",
   "id": "5fc9c4be",
   "metadata": {
    "slideshow": {
     "slide_type": "slide"
    }
   },
   "source": [
    "We need:\n",
    "    \n",
    ".find_all() \n",
    "- finds all instances of specified tags within level.\n",
    "- returns a list"
   ]
  },
  {
   "cell_type": "code",
   "execution_count": 23,
   "id": "16f70d2c",
   "metadata": {
    "slideshow": {
     "slide_type": "subslide"
    }
   },
   "outputs": [
    {
     "data": {
      "text/plain": [
       "[<p class=\"inner-text first-item\" id=\"first\">\n",
       "                 First paragraph.\n",
       "             </p>,\n",
       " <p class=\"inner-text\">\n",
       "                 Second paragraph.\n",
       "             </p>,\n",
       " <p class=\"outer-text first-item\" id=\"second\">\n",
       " <b>\n",
       "                 First outer paragraph.\n",
       "             </b>\n",
       " </p>,\n",
       " <p class=\"outer-text\">\n",
       " <b>\n",
       "                 Second outer paragraph.\n",
       "             </b>\n",
       " </p>]"
      ]
     },
     "execution_count": 23,
     "metadata": {},
     "output_type": "execute_result"
    }
   ],
   "source": [
    "body_level.find_all('p')"
   ]
  },
  {
   "cell_type": "markdown",
   "id": "5166ff0d",
   "metadata": {
    "slideshow": {
     "slide_type": "slide"
    }
   },
   "source": [
    "#### Class and id selectors\n",
    "- Modify style easily across:\n",
    "- many instance of same type (class)\n",
    "- or one specific instance (id).\n",
    "- Can also use this for data selection / scraping.\n",
    "\n",
    "Additional arguments for .find_all()"
   ]
  },
  {
   "cell_type": "code",
   "execution_count": 24,
   "id": "78d81cf9",
   "metadata": {
    "cell_style": "split",
    "slideshow": {
     "slide_type": "slide"
    }
   },
   "outputs": [
    {
     "data": {
      "text/plain": [
       "<body>\n",
       "<div>\n",
       "<p class=\"inner-text first-item\" id=\"first\">\n",
       "                First paragraph.\n",
       "            </p>\n",
       "<p class=\"inner-text\">\n",
       "                Second paragraph.\n",
       "            </p>\n",
       "</div>\n",
       "<p class=\"outer-text first-item\" id=\"second\">\n",
       "<b>\n",
       "                First outer paragraph.\n",
       "            </b>\n",
       "</p>\n",
       "<p class=\"outer-text\">\n",
       "<b>\n",
       "                Second outer paragraph.\n",
       "            </b>\n",
       "</p>\n",
       "</body>"
      ]
     },
     "execution_count": 24,
     "metadata": {},
     "output_type": "execute_result"
    }
   ],
   "source": [
    "body_level"
   ]
  },
  {
   "cell_type": "markdown",
   "id": "a9fd3d41",
   "metadata": {
    "cell_style": "split",
    "slideshow": {
     "slide_type": "fragment"
    }
   },
   "source": [
    "Extract by class:"
   ]
  },
  {
   "cell_type": "code",
   "execution_count": 25,
   "id": "61e8ce38",
   "metadata": {
    "cell_style": "split",
    "slideshow": {
     "slide_type": "fragment"
    }
   },
   "outputs": [
    {
     "data": {
      "text/plain": [
       "[<p class=\"inner-text first-item\" id=\"first\">\n",
       "                 First paragraph.\n",
       "             </p>,\n",
       " <p class=\"inner-text\">\n",
       "                 Second paragraph.\n",
       "             </p>]"
      ]
     },
     "execution_count": 25,
     "metadata": {},
     "output_type": "execute_result"
    }
   ],
   "source": [
    "body_level.find_all('p', class_ = 'inner-text')"
   ]
  },
  {
   "cell_type": "code",
   "execution_count": 26,
   "id": "0b164c15",
   "metadata": {
    "cell_style": "split",
    "slideshow": {
     "slide_type": "slide"
    }
   },
   "outputs": [
    {
     "data": {
      "text/plain": [
       "<body>\n",
       "<div>\n",
       "<p class=\"inner-text first-item\" id=\"first\">\n",
       "                First paragraph.\n",
       "            </p>\n",
       "<p class=\"inner-text\">\n",
       "                Second paragraph.\n",
       "            </p>\n",
       "</div>\n",
       "<p class=\"outer-text first-item\" id=\"second\">\n",
       "<b>\n",
       "                First outer paragraph.\n",
       "            </b>\n",
       "</p>\n",
       "<p class=\"outer-text\">\n",
       "<b>\n",
       "                Second outer paragraph.\n",
       "            </b>\n",
       "</p>\n",
       "</body>"
      ]
     },
     "execution_count": 26,
     "metadata": {},
     "output_type": "execute_result"
    }
   ],
   "source": [
    "body_level"
   ]
  },
  {
   "cell_type": "markdown",
   "id": "e4f0c04e",
   "metadata": {
    "cell_style": "split",
    "slideshow": {
     "slide_type": "fragment"
    }
   },
   "source": [
    "Extract by id:"
   ]
  },
  {
   "cell_type": "code",
   "execution_count": 27,
   "id": "95fadfe5",
   "metadata": {
    "cell_style": "split",
    "slideshow": {
     "slide_type": "fragment"
    }
   },
   "outputs": [
    {
     "data": {
      "text/plain": [
       "[<p class=\"outer-text first-item\" id=\"second\">\n",
       " <b>\n",
       "                 First outer paragraph.\n",
       "             </b>\n",
       " </p>]"
      ]
     },
     "execution_count": 27,
     "metadata": {},
     "output_type": "execute_result"
    }
   ],
   "source": [
    "body_level.find_all('p', id = 'second')"
   ]
  },
  {
   "cell_type": "markdown",
   "id": "57a1eaf9",
   "metadata": {
    "slideshow": {
     "slide_type": "slide"
    }
   },
   "source": [
    "#### Going back to our whisky page\n",
    "\n",
    "- Get bottling details (age, ABV, distillery, etc)"
   ]
  },
  {
   "cell_type": "code",
   "execution_count": 28,
   "id": "d08debb0",
   "metadata": {
    "slideshow": {
     "slide_type": "fragment"
    }
   },
   "outputs": [],
   "source": [
    "edradour_url = \"https://www.masterofmalt.com/whiskies/edradour-10-year-old-whisky/?srh=1\""
   ]
  },
  {
   "cell_type": "code",
   "execution_count": 29,
   "id": "f59b8a5a",
   "metadata": {},
   "outputs": [],
   "source": [
    "edrad_req = requests.get(edradour_url)\n",
    "edrad_soup = BeautifulSoup(edrad_req.content)"
   ]
  },
  {
   "cell_type": "code",
   "execution_count": 33,
   "id": "e3dcf43d",
   "metadata": {},
   "outputs": [
    {
     "data": {
      "text/plain": [
       "<!DOCTYPE html>\n",
       "<html lang=\"en-US\">\n",
       "<head>\n",
       "<title>Just a moment...</title>\n",
       "<meta content=\"text/html; charset=utf-8\" http-equiv=\"Content-Type\"/>\n",
       "<meta content=\"IE=Edge\" http-equiv=\"X-UA-Compatible\"/>\n",
       "<meta content=\"noindex,nofollow\" name=\"robots\"/>\n",
       "<meta content=\"width=device-width,initial-scale=1\" name=\"viewport\"/>\n",
       "<link href=\"/cdn-cgi/styles/cf-errors.css\" rel=\"stylesheet\"/>\n",
       "<script>\n",
       "    (function(){\n",
       "        window._cf_chl_opt={\n",
       "            cvId: '2',\n",
       "            cType: 'managed',\n",
       "            cNounce: '33059',\n",
       "            cRay: '73e618e959a38c6f',\n",
       "            cHash: 'e12fe677815a968',\n",
       "            cUPMDTk: \"\\/whiskies\\/edradour-10-year-old-whisky\\/?srh=1&__cf_chl_tk=AewIh2IygLtZpuVvOAwERlXzEAkck1PrKAg0prCCtS4-1661113519-0-gaNycGzNB1E\",\n",
       "            cFPWv: 'g',\n",
       "            cTTimeMs: '1000',\n",
       "            cTplV: 3,\n",
       "            cRq: {\n",
       "                ru: 'aHR0cHM6Ly93d3cubWFzdGVyb2ZtYWx0LmNvbS93aGlza2llcy9lZHJhZG91ci0xMC15ZWFyLW9sZC13aGlza3kvP3NyaD0x',\n",
       "                ra: 'cHl0aG9uLXJlcXVlc3RzLzIuMjcuMQ==',\n",
       "                rm: 'R0VU',\n",
       "                d: 'myF4sd/wB1l6fFeBO/lykXyQ1cnbAmve19gy2wTE73H6Zh01qad0NirJadMdXglh/uwVbv3qsDo6W0ppf7+4N+6hHr7z0jJ42h58GPIYvLErmxJ7jqb+BffMaJz/B2Q2DztaCPxokc0pQIWGoV/cHlm2gPk71G+RF/sDTHs/2Am+SFPhPOStMxntIZNaSmmbMBw+tekGmfpWcOwzd8JY9CxVr2cIzXv727kC22UbmOQ+siQ4VwuGsJYSHz98kZ35ssu1I2W6GQUnPw7XznVYnW81GB4NZyuSvCiKPyRWacTi/96dho4C65C84J6A/krp1TbPRB8LDnPAkwvM0WB9mUK1HunnQES6DqEs7u8KAiZdxv79MfcQgvSTaR0z1Rsk2wHP51K6PJ2yiPtSAcX+vRG12H8CWKbXXcLI4+yQopyLRESP/JLTuthxWC2vkBTUIskKzE7w8eODiqXFnsnjBRtASqEGA21yDpyrPTYBN0oQlPaDgVx4YYTt9AAMz8GmzjvnqfTgJUOicpk27O55nj4PUYJPWoeuJcoGLnCPQSYpxSxdAqVbtP1pUOilpN/7MTzBEHhj8YgcYNIcqdigvNKwQzrxOxXNLeMuS+69GAz+iaUm2NBUVfxFdNJzEIF3zBYbQgRFhpc1MxPLbXCf8g==',\n",
       "                t: 'MTY2MTExMzUxOS41NzgwMDA=',\n",
       "                m: 'UCax2WkpUCjovzyhAkhBMkF3KShQIU/938S90XW/QKM=',\n",
       "                i1: 'oipdw/TFyCtOB7SAJ2wR8g==',\n",
       "                i2: 'GZswQ2DHs/aiQMONEtt+wg==',\n",
       "                zh: 'e7ZUTlOmuNwQTHmK5s8CFjDZ/L9xXZ20yWt8ys4FETk=',\n",
       "                uh: 'JNy/u1JaDY8l68+s834y37Qd6UIzTJLBzCkJPX4t/ps=',\n",
       "                hh: 'S7deGAOOT9VZxudqOsC2eawxr1stnqeCcbiR9gSS6OY=',\n",
       "            }\n",
       "        }\n",
       "        window._cf_chl_enter = function(){window._cf_chl_opt.p=1};\n",
       "    })();\n",
       "</script>\n",
       "</head>\n",
       "<body class=\"no-js\">\n",
       "<div class=\"main-wrapper\" role=\"main\">\n",
       "<div class=\"main-content\">\n",
       "<h1 class=\"zone-name-title h1\">\n",
       "<img class=\"heading-favicon\" onerror=\"this.onerror=null;this.parentNode.removeChild(this)\" src=\"/favicon.ico\"/>\n",
       "            www.masterofmalt.com\n",
       "        </h1>\n",
       "<h2 class=\"h2\" id=\"cf-challenge-running\">\n",
       "            Checking if the site connection is secure\n",
       "        </h2>\n",
       "<noscript>\n",
       "<div id=\"cf-challenge-error-title\">\n",
       "<div class=\"h2\">\n",
       "<span class=\"icon-wrapper\">\n",
       "<div class=\"heading-icon warning-icon\"></div>\n",
       "</span>\n",
       "<span id=\"cf-challenge-error-text\">\n",
       "                        Enable JavaScript and cookies to continue\n",
       "                    </span>\n",
       "</div>\n",
       "</div>\n",
       "</noscript>\n",
       "<div id=\"trk_jschal_js\" style=\"display:none;background-image:url('/cdn-cgi/images/trace/managed/nojs/transparent.gif?ray=73e618e959a38c6f')\"></div>\n",
       "<div class=\"core-msg spacer\" id=\"cf-challenge-body-text\">\n",
       "            www.masterofmalt.com needs to review the security of your connection before\n",
       "            proceeding.\n",
       "        </div>\n",
       "<form action=\"/whiskies/edradour-10-year-old-whisky/?srh=1&amp;__cf_chl_f_tk=AewIh2IygLtZpuVvOAwERlXzEAkck1PrKAg0prCCtS4-1661113519-0-gaNycGzNB1E\" enctype=\"application/x-www-form-urlencoded\" id=\"challenge-form\" method=\"POST\">\n",
       "<input name=\"md\" type=\"hidden\" value=\"RFb.yRiGO0ov0CCqHwtFnQRB1M6HehtTDlxqNhVozHM-1661113519-0-ARTuJwDrxmgn004hKdVo_rH8o9XBnJexjK2ntn3Prk0SCFOQ2JF0zvxFJDA0TmDLYz4FwXb9SV1mCz2dU6WZ2HDl98iq2qiMHT_ufCOPadwdbGzEUo2rbbbB15wAFvhQ89oDVK7WR93ajt8JtL1Y30S_BBCpL7aEoG970Q_toM6zHNUnJDoHSh9z9jbDojMq6rJpZCHVzeL8qdj3837GNaMQyrpP9FUqmNdaJd-CYpzRpdaYeDSmNyfDFvLuFUHjRcl1D03-FR-7QmMOrx8XlPOtQLOWGQbh2SZyPg-RqG54CLvat7Tnv3fhXc-UTjJakAr5KsF4pWFYquWtFMiQkF550zFBgUzBUpcRTCnKDelw3a2Yi8GmlGOKDI0suCLShHB8HwMbJ8xeHa0I3cM5QV6BCFAN4J8DLCFWOXsv41pvvWFLUqrVUihbUWqP0RR6vMw_wC-mWsdohdnsWmxXDoASm6h6eGrM9aXzSWWt0LMuhcmAGsx0i7nl0z0s7uUTy4dAtjfO8Lsg1SwO0I91fHJ99Hr2sIAvbxjerxfpDGDaTJNUkXYxnN1n6BB64GCwT1sFIlYs6Z3DOZvo-QAlf96oj8niv6MVlTT9f2CIRQVHhroLd-1mrKa5u81xl_HVmW9Woa8t2aG_l3CnFEnkq2kJ2FP0XZVbxYqS5z8-Fu6O5_ETOVPPtGLEwl32VVyNkyXRilOJzPZJHaoMz5CihcSNuI9teyQvEkrW3r5rink0M-eKgbf1EkxVosojqnJOd2zAA23CjHeokw-adQiGwmq92lsOZVWM2tax7f0Dnb1p\"/>\n",
       "<input name=\"r\" type=\"hidden\" value=\"IY_oFkjVYD9LJ4shDpDkT5IuLIZRgeZfcB0V.FEVcaU-1661113519-0-AVpRjAqHfAEVYmzht5Ar94+z9QZf8U6btgpBdhm1znnfpfzLTBEm03vaRMAeTw8unJUUU/+eLDJ9wv+BzvsadHXPcBiQY9oGSFiMONsYlWhmZE/Z7VqR1VGBYd/0Qx+D5pFu9gncjwL+XT7SyeuZZ7JupNKGsuxlkysl9Aoy5bjrq+U1xaM/DV6xQR6I7/Gh8YSnvAa6zwwhyg9NkFs5OZah3YEAu+Jh9fT4KcqEIcKGXvk81dHeZpMTOScmX+kbTrwFRCY7Q4w0D8ez1OHzu3vO7kd+ZOpxUCCXkqaSH0TqfUxCIMOLm+eLQ4k4HIuRKESeYu8WEaJmY8VPsBjbSIHA4fgVfH5v95RHZJXujpdFpzJ0OGPdpzHCjbLgR7rs3XjV33dud/Jy/8oev76OsTBUemJNY/R4HO0jOWGRExxotkONmLYSjn7hok8tx9ydVv0vP5gwkhAqyU5AcFZrJWFHO8c+Eha7LNder20IGtgnNlQx3y7UqF6LrVYObYbTapMdHJsloUNSKKkrRPcGxscD88LOEQNaMNdpgq7ycw0hZqAeHyR/IG5jr8Cry9VqQdW79rU4jCpc1pyZyzILngsiNK7LPe/YGVKVnYQ3FKW4MuQ2SyJMuUbTGJfGYBxBu5NrIPt6gAXUMAYsZ1PPfZ1d97qvNgAeT5QAY3v1P4ah3xmGZZnjqoXbkXeKa+rNsC+GZvtT/Env2V1Cd4uqYaroY/O8mvSp+IImQeA4Jcq9+71fDMwBBwOtuzaY16c1FiircpGQFHRU5yqNPwZpv3AJVdCcYi3NDQ2Juzp+dvsXfyAC7ldhL5rmvRl/7Rl080EzCLLjqR3q58AD1u79FMrCPcCAm/I8+CLlF5bJOWci3MRduU2MrD0YD2SAAFoRQ3nSxt5+36hn0V2SbaNTGOjVyDmkjAxQpr0D20M36qRMhY+DKyUl5lfgW0ipUf2WdnKpDXCLee+WHwgWMhwJzxfxXQNR0u9OlOMpuO8G9GLh2kcFqjNVsIgWOyzAGtUo0xPbu/mmxXI9PqUCfz+5RwfOUONg1sHZUaq4NPn/zIHp23lQfMnaQgY1yBsewy09XgzBZaU6GmKvsmflROFCZTkAy5teXv80ioJNLOtcMWoC0LnXW63P9/IEa38E2uRw3h2ECvZnmKnl1GPbWjmHsyV9Aa42IzTzq1NwEy/+aIhCnSTUlDf/E8VUHgjbeehqQkkOK9mN8AIG8lBvLIyWBo3UNka9TEU2SLZ+CFDdfYvTO3axFder0hZFFpnK2Bm/EFoHIbkYndZ+Q7dN9cz9xY7wFW3L5wSL0fNAJgt4U+Sf8K8C/hGu7v3G635FWA9oF52/9lGm5uEwZfRo8jTG1pGAqYsAOuHbNnatDKKxFoZQMVCm+a8KpYglDGJfvHt4dNl9UxWN5bVNu6g0Ozh3y2RVYtJSI1/VtdFIA4FoWjmSp6QDUwA+TrBpnAW7sq7ghfE+9EsUbXkzXTF0xis4zGnIlyhi7nSkme0W4HBikr7EgVtEjCi8HKVMBYEUVrp4Mo34V9viO5RQO88q/8Sv1BuwXVoqF708Iaf59dwd4yqrQhqM9N8jJgn2bNEnf/IHVbyNquWdesp//2v/HqJm/v53DyraMiqUkl5yjnTebfLvbTTHH9FvhvoWnT9A5oGzkxVGAhnHmXuRhlLzudQIcYvbqHyD9z07w155jyO6R7mKh7fK760VNfp+9AfSVcYP03O2WeDU8Ujy4ubVSBwW5gHnBZXlcclIpgSuCMT9SGr1q247Ot0MF0rpd9Z8qS7aCP+Hhk1RdTXO9bPNCS8Sxx4=\"/>\n",
       "</form>\n",
       "</div>\n",
       "</div>\n",
       "<script>\n",
       "    (function(){\n",
       "        var trkjs = document.createElement('img');\n",
       "        trkjs.setAttribute('src', '/cdn-cgi/images/trace/managed/js/transparent.gif?ray=73e618e959a38c6f');\n",
       "        trkjs.setAttribute('style', 'display: none');\n",
       "        document.body.appendChild(trkjs);\n",
       "        var cpo = document.createElement('script');\n",
       "        cpo.src = '/cdn-cgi/challenge-platform/h/g/orchestrate/managed/v1?ray=73e618e959a38c6f';\n",
       "        window._cf_chl_opt.cOgUHash = location.hash === '' && location.href.indexOf('#') !== -1 ? '#' : location.hash;\n",
       "        window._cf_chl_opt.cOgUQuery = location.search === '' && location.href.slice(0, -window._cf_chl_opt.cOgUHash.length).indexOf('?') !== -1 ? '?' : location.search;\n",
       "        if (window.history && window.history.replaceState) {\n",
       "            var ogU = location.pathname + window._cf_chl_opt.cOgUQuery + window._cf_chl_opt.cOgUHash;\n",
       "            history.replaceState(null, null, \"\\/whiskies\\/edradour-10-year-old-whisky\\/?srh=1&__cf_chl_rt_tk=AewIh2IygLtZpuVvOAwERlXzEAkck1PrKAg0prCCtS4-1661113519-0-gaNycGzNB1E\" + window._cf_chl_opt.cOgUHash);\n",
       "            cpo.onload = function() {\n",
       "                history.replaceState(null, null, ogU);\n",
       "            };\n",
       "        }\n",
       "        document.getElementsByTagName('head')[0].appendChild(cpo);\n",
       "    }());\n",
       "</script>\n",
       "<div class=\"footer\" role=\"contentinfo\">\n",
       "<div class=\"footer-inner\">\n",
       "<div class=\"clearfix diagnostic-wrapper\">\n",
       "<div class=\"ray-id\">Ray ID: <code>73e618e959a38c6f</code></div>\n",
       "</div>\n",
       "<div class=\"text-center\">\n",
       "                Performance &amp; security by\n",
       "                <a href=\"https://www.cloudflare.com?utm_source=challenge&amp;utm_campaign=m\" rel=\"noopener noreferrer\" target=\"_blank\">Cloudflare</a>\n",
       "</div>\n",
       "</div>\n",
       "</div>\n",
       "</body>\n",
       "</html>"
      ]
     },
     "execution_count": 33,
     "metadata": {},
     "output_type": "execute_result"
    }
   ],
   "source": [
    "edrad_soup"
   ]
  },
  {
   "cell_type": "markdown",
   "id": "0f225c11",
   "metadata": {
    "slideshow": {
     "slide_type": "slide"
    }
   },
   "source": [
    "Extract all info from bottling details:"
   ]
  },
  {
   "cell_type": "code",
   "execution_count": 34,
   "id": "27c316e5",
   "metadata": {
    "scrolled": true,
    "slideshow": {
     "slide_type": "subslide"
    }
   },
   "outputs": [
    {
     "data": {
      "text/plain": [
       "[]"
      ]
     },
     "execution_count": 34,
     "metadata": {},
     "output_type": "execute_result"
    }
   ],
   "source": [
    "details = edrad_soup.find_all('div', id=\"whiskyDetailsWrapper\")\n",
    "details"
   ]
  },
  {
   "cell_type": "code",
   "execution_count": 108,
   "id": "2faf9b27",
   "metadata": {
    "slideshow": {
     "slide_type": "subslide"
    }
   },
   "outputs": [
    {
     "ename": "AttributeError",
     "evalue": "ResultSet object has no attribute 'find_all'. You're probably treating a list of elements like a single element. Did you call find_all() when you meant to call find()?",
     "output_type": "error",
     "traceback": [
      "\u001b[1;31m---------------------------------------------------------------------------\u001b[0m",
      "\u001b[1;31mAttributeError\u001b[0m                            Traceback (most recent call last)",
      "\u001b[1;32mc:\\Users\\kapta\\DSNYC080822\\Phase1_Topic10_Scraping\\Ph1_T10_Scraping.ipynb Cell 71\u001b[0m in \u001b[0;36m<cell line: 1>\u001b[1;34m()\u001b[0m\n\u001b[1;32m----> <a href='vscode-notebook-cell:/c%3A/Users/kapta/DSNYC080822/Phase1_Topic10_Scraping/Ph1_T10_Scraping.ipynb#Y126sZmlsZQ%3D%3D?line=0'>1</a>\u001b[0m detail_keys \u001b[39m=\u001b[39m details\u001b[39m.\u001b[39;49mfind_all(\u001b[39m'\u001b[39m\u001b[39mspan\u001b[39m\u001b[39m'\u001b[39m, class_ \u001b[39m=\u001b[39m \u001b[39m\"\u001b[39m\u001b[39mkv-key gold\u001b[39m\u001b[39m\"\u001b[39m)\n",
      "File \u001b[1;32mc:\\Users\\kapta\\anaconda3\\lib\\site-packages\\bs4\\element.py:2289\u001b[0m, in \u001b[0;36mResultSet.__getattr__\u001b[1;34m(self, key)\u001b[0m\n\u001b[0;32m   2287\u001b[0m \u001b[39mdef\u001b[39;00m \u001b[39m__getattr__\u001b[39m(\u001b[39mself\u001b[39m, key):\n\u001b[0;32m   2288\u001b[0m     \u001b[39m\"\"\"Raise a helpful exception to explain a common code fix.\"\"\"\u001b[39;00m\n\u001b[1;32m-> 2289\u001b[0m     \u001b[39mraise\u001b[39;00m \u001b[39mAttributeError\u001b[39;00m(\n\u001b[0;32m   2290\u001b[0m         \u001b[39m\"\u001b[39m\u001b[39mResultSet object has no attribute \u001b[39m\u001b[39m'\u001b[39m\u001b[39m%s\u001b[39;00m\u001b[39m'\u001b[39m\u001b[39m. You\u001b[39m\u001b[39m'\u001b[39m\u001b[39mre probably treating a list of elements like a single element. Did you call find_all() when you meant to call find()?\u001b[39m\u001b[39m\"\u001b[39m \u001b[39m%\u001b[39m key\n\u001b[0;32m   2291\u001b[0m     )\n",
      "\u001b[1;31mAttributeError\u001b[0m: ResultSet object has no attribute 'find_all'. You're probably treating a list of elements like a single element. Did you call find_all() when you meant to call find()?"
     ]
    }
   ],
   "source": [
    "detail_keys = details.find_all('span', class_ = \"kv-key gold\")"
   ]
  },
  {
   "cell_type": "code",
   "execution_count": 109,
   "id": "489e7a4f",
   "metadata": {
    "slideshow": {
     "slide_type": "fragment"
    }
   },
   "outputs": [
    {
     "ename": "NameError",
     "evalue": "name 'detail_keys' is not defined",
     "output_type": "error",
     "traceback": [
      "\u001b[1;31m---------------------------------------------------------------------------\u001b[0m",
      "\u001b[1;31mNameError\u001b[0m                                 Traceback (most recent call last)",
      "\u001b[1;32mc:\\Users\\kapta\\DSNYC080822\\Phase1_Topic10_Scraping\\Ph1_T10_Scraping.ipynb Cell 72\u001b[0m in \u001b[0;36m<cell line: 1>\u001b[1;34m()\u001b[0m\n\u001b[1;32m----> <a href='vscode-notebook-cell:/c%3A/Users/kapta/DSNYC080822/Phase1_Topic10_Scraping/Ph1_T10_Scraping.ipynb#Y130sZmlsZQ%3D%3D?line=0'>1</a>\u001b[0m detail_keys\n",
      "\u001b[1;31mNameError\u001b[0m: name 'detail_keys' is not defined"
     ]
    }
   ],
   "source": [
    "detail_keys"
   ]
  },
  {
   "cell_type": "code",
   "execution_count": 110,
   "id": "824d5299",
   "metadata": {
    "slideshow": {
     "slide_type": "subslide"
    }
   },
   "outputs": [
    {
     "ename": "AttributeError",
     "evalue": "ResultSet object has no attribute 'find_all'. You're probably treating a list of elements like a single element. Did you call find_all() when you meant to call find()?",
     "output_type": "error",
     "traceback": [
      "\u001b[1;31m---------------------------------------------------------------------------\u001b[0m",
      "\u001b[1;31mAttributeError\u001b[0m                            Traceback (most recent call last)",
      "\u001b[1;32mc:\\Users\\kapta\\DSNYC080822\\Phase1_Topic10_Scraping\\Ph1_T10_Scraping.ipynb Cell 73\u001b[0m in \u001b[0;36m<cell line: 1>\u001b[1;34m()\u001b[0m\n\u001b[1;32m----> <a href='vscode-notebook-cell:/c%3A/Users/kapta/DSNYC080822/Phase1_Topic10_Scraping/Ph1_T10_Scraping.ipynb#Y131sZmlsZQ%3D%3D?line=0'>1</a>\u001b[0m detail_values \u001b[39m=\u001b[39m details\u001b[39m.\u001b[39;49mfind_all(\u001b[39m'\u001b[39m\u001b[39mspan\u001b[39m\u001b[39m'\u001b[39m, class_ \u001b[39m=\u001b[39m \u001b[39m\"\u001b[39m\u001b[39mkv-val\u001b[39m\u001b[39m\"\u001b[39m)\n",
      "File \u001b[1;32mc:\\Users\\kapta\\anaconda3\\lib\\site-packages\\bs4\\element.py:2289\u001b[0m, in \u001b[0;36mResultSet.__getattr__\u001b[1;34m(self, key)\u001b[0m\n\u001b[0;32m   2287\u001b[0m \u001b[39mdef\u001b[39;00m \u001b[39m__getattr__\u001b[39m(\u001b[39mself\u001b[39m, key):\n\u001b[0;32m   2288\u001b[0m     \u001b[39m\"\"\"Raise a helpful exception to explain a common code fix.\"\"\"\u001b[39;00m\n\u001b[1;32m-> 2289\u001b[0m     \u001b[39mraise\u001b[39;00m \u001b[39mAttributeError\u001b[39;00m(\n\u001b[0;32m   2290\u001b[0m         \u001b[39m\"\u001b[39m\u001b[39mResultSet object has no attribute \u001b[39m\u001b[39m'\u001b[39m\u001b[39m%s\u001b[39;00m\u001b[39m'\u001b[39m\u001b[39m. You\u001b[39m\u001b[39m'\u001b[39m\u001b[39mre probably treating a list of elements like a single element. Did you call find_all() when you meant to call find()?\u001b[39m\u001b[39m\"\u001b[39m \u001b[39m%\u001b[39m key\n\u001b[0;32m   2291\u001b[0m     )\n",
      "\u001b[1;31mAttributeError\u001b[0m: ResultSet object has no attribute 'find_all'. You're probably treating a list of elements like a single element. Did you call find_all() when you meant to call find()?"
     ]
    }
   ],
   "source": [
    "detail_values = details.find_all('span', class_ = \"kv-val\")"
   ]
  },
  {
   "cell_type": "code",
   "execution_count": 111,
   "id": "a90b6176",
   "metadata": {
    "slideshow": {
     "slide_type": "fragment"
    }
   },
   "outputs": [
    {
     "ename": "NameError",
     "evalue": "name 'detail_values' is not defined",
     "output_type": "error",
     "traceback": [
      "\u001b[1;31m---------------------------------------------------------------------------\u001b[0m",
      "\u001b[1;31mNameError\u001b[0m                                 Traceback (most recent call last)",
      "\u001b[1;32mc:\\Users\\kapta\\DSNYC080822\\Phase1_Topic10_Scraping\\Ph1_T10_Scraping.ipynb Cell 74\u001b[0m in \u001b[0;36m<cell line: 1>\u001b[1;34m()\u001b[0m\n\u001b[1;32m----> <a href='vscode-notebook-cell:/c%3A/Users/kapta/DSNYC080822/Phase1_Topic10_Scraping/Ph1_T10_Scraping.ipynb#Y132sZmlsZQ%3D%3D?line=0'>1</a>\u001b[0m detail_values\n",
      "\u001b[1;31mNameError\u001b[0m: name 'detail_values' is not defined"
     ]
    }
   ],
   "source": [
    "detail_values"
   ]
  },
  {
   "cell_type": "code",
   "execution_count": 112,
   "id": "911f09c6",
   "metadata": {
    "cell_style": "split",
    "slideshow": {
     "slide_type": "slide"
    }
   },
   "outputs": [
    {
     "ename": "NameError",
     "evalue": "name 'detail_keys' is not defined",
     "output_type": "error",
     "traceback": [
      "\u001b[1;31m---------------------------------------------------------------------------\u001b[0m",
      "\u001b[1;31mNameError\u001b[0m                                 Traceback (most recent call last)",
      "\u001b[1;32mc:\\Users\\kapta\\DSNYC080822\\Phase1_Topic10_Scraping\\Ph1_T10_Scraping.ipynb Cell 75\u001b[0m in \u001b[0;36m<cell line: 2>\u001b[1;34m()\u001b[0m\n\u001b[0;32m      <a href='vscode-notebook-cell:/c%3A/Users/kapta/DSNYC080822/Phase1_Topic10_Scraping/Ph1_T10_Scraping.ipynb#Y133sZmlsZQ%3D%3D?line=0'>1</a>\u001b[0m data_dict \u001b[39m=\u001b[39m {}\n\u001b[1;32m----> <a href='vscode-notebook-cell:/c%3A/Users/kapta/DSNYC080822/Phase1_Topic10_Scraping/Ph1_T10_Scraping.ipynb#Y133sZmlsZQ%3D%3D?line=1'>2</a>\u001b[0m \u001b[39mfor\u001b[39;00m key,val \u001b[39min\u001b[39;00m \u001b[39mzip\u001b[39m(detail_keys, detail_values):\n\u001b[0;32m      <a href='vscode-notebook-cell:/c%3A/Users/kapta/DSNYC080822/Phase1_Topic10_Scraping/Ph1_T10_Scraping.ipynb#Y133sZmlsZQ%3D%3D?line=2'>3</a>\u001b[0m     data_dict[key\u001b[39m.\u001b[39mtext] \u001b[39m=\u001b[39m val\u001b[39m.\u001b[39mtext\n",
      "\u001b[1;31mNameError\u001b[0m: name 'detail_keys' is not defined"
     ]
    }
   ],
   "source": [
    "data_dict = {}\n",
    "for key,val in zip(detail_keys, detail_values):\n",
    "    data_dict[key.text] = val.text\n",
    "    "
   ]
  },
  {
   "cell_type": "code",
   "execution_count": 113,
   "id": "b1325eb9",
   "metadata": {
    "cell_style": "split",
    "slideshow": {
     "slide_type": "fragment"
    }
   },
   "outputs": [
    {
     "data": {
      "text/plain": [
       "{}"
      ]
     },
     "execution_count": 113,
     "metadata": {},
     "output_type": "execute_result"
    }
   ],
   "source": [
    "data_dict"
   ]
  },
  {
   "cell_type": "code",
   "execution_count": 114,
   "id": "51f24fa5",
   "metadata": {},
   "outputs": [
    {
     "ename": "IndexError",
     "evalue": "list index out of range",
     "output_type": "error",
     "traceback": [
      "\u001b[1;31m---------------------------------------------------------------------------\u001b[0m",
      "\u001b[1;31mIndexError\u001b[0m                                Traceback (most recent call last)",
      "\u001b[1;32mc:\\Users\\kapta\\DSNYC080822\\Phase1_Topic10_Scraping\\Ph1_T10_Scraping.ipynb Cell 77\u001b[0m in \u001b[0;36m<cell line: 1>\u001b[1;34m()\u001b[0m\n\u001b[1;32m----> <a href='vscode-notebook-cell:/c%3A/Users/kapta/DSNYC080822/Phase1_Topic10_Scraping/Ph1_T10_Scraping.ipynb#Y135sZmlsZQ%3D%3D?line=0'>1</a>\u001b[0m tasting_note_div \u001b[39m=\u001b[39m edrad_soup\u001b[39m.\u001b[39;49mfind_all(\u001b[39m\"\u001b[39;49m\u001b[39mdiv\u001b[39;49m\u001b[39m\"\u001b[39;49m, \n\u001b[0;32m      <a href='vscode-notebook-cell:/c%3A/Users/kapta/DSNYC080822/Phase1_Topic10_Scraping/Ph1_T10_Scraping.ipynb#Y135sZmlsZQ%3D%3D?line=1'>2</a>\u001b[0m                                        \u001b[39mid\u001b[39;49m \u001b[39m=\u001b[39;49m \u001b[39m\"\u001b[39;49m\u001b[39mContentPlaceHolder1_ctl00_ctl02_TastingNoteBox_ctl00_breakDownTastingNote\u001b[39;49m\u001b[39m\"\u001b[39;49m)[\u001b[39m0\u001b[39;49m]\n\u001b[0;32m      <a href='vscode-notebook-cell:/c%3A/Users/kapta/DSNYC080822/Phase1_Topic10_Scraping/Ph1_T10_Scraping.ipynb#Y135sZmlsZQ%3D%3D?line=3'>4</a>\u001b[0m tasting_note_div\n",
      "\u001b[1;31mIndexError\u001b[0m: list index out of range"
     ]
    }
   ],
   "source": [
    "tasting_note_div = edrad_soup.find_all(\"div\", \n",
    "                                       id = \"ContentPlaceHolder1_ctl00_ctl02_TastingNoteBox_ctl00_breakDownTastingNote\")[0]\n",
    "\n",
    "tasting_note_div"
   ]
  },
  {
   "cell_type": "code",
   "execution_count": 115,
   "id": "29390c6b",
   "metadata": {
    "slideshow": {
     "slide_type": "slide"
    }
   },
   "outputs": [
    {
     "ename": "NameError",
     "evalue": "name 'tasting_note_div' is not defined",
     "output_type": "error",
     "traceback": [
      "\u001b[1;31m---------------------------------------------------------------------------\u001b[0m",
      "\u001b[1;31mNameError\u001b[0m                                 Traceback (most recent call last)",
      "\u001b[1;32mc:\\Users\\kapta\\DSNYC080822\\Phase1_Topic10_Scraping\\Ph1_T10_Scraping.ipynb Cell 78\u001b[0m in \u001b[0;36m<cell line: 1>\u001b[1;34m()\u001b[0m\n\u001b[1;32m----> <a href='vscode-notebook-cell:/c%3A/Users/kapta/DSNYC080822/Phase1_Topic10_Scraping/Ph1_T10_Scraping.ipynb#Y136sZmlsZQ%3D%3D?line=0'>1</a>\u001b[0m tasting_dict \u001b[39m=\u001b[39m { note\u001b[39m.\u001b[39mtext\u001b[39m.\u001b[39msplit(\u001b[39m'\u001b[39m\u001b[39m:\u001b[39m\u001b[39m'\u001b[39m)[\u001b[39m0\u001b[39m]:note\u001b[39m.\u001b[39mtext\u001b[39m.\u001b[39msplit(\u001b[39m'\u001b[39m\u001b[39m:\u001b[39m\u001b[39m'\u001b[39m)[\u001b[39m1\u001b[39m] \u001b[39mfor\u001b[39;00m note \u001b[39min\u001b[39;00m tasting_note_div\u001b[39m.\u001b[39mfind_all(\u001b[39m'\u001b[39m\u001b[39mp\u001b[39m\u001b[39m'\u001b[39m) }\n\u001b[0;32m      <a href='vscode-notebook-cell:/c%3A/Users/kapta/DSNYC080822/Phase1_Topic10_Scraping/Ph1_T10_Scraping.ipynb#Y136sZmlsZQ%3D%3D?line=1'>2</a>\u001b[0m data_dict\u001b[39m.\u001b[39mupdate(tasting_dict)\n",
      "\u001b[1;31mNameError\u001b[0m: name 'tasting_note_div' is not defined"
     ]
    }
   ],
   "source": [
    "tasting_dict = { note.text.split(':')[0]:note.text.split(':')[1] for note in tasting_note_div.find_all('p') }\n",
    "data_dict.update(tasting_dict)"
   ]
  },
  {
   "cell_type": "code",
   "execution_count": 116,
   "id": "bee071f4",
   "metadata": {
    "slideshow": {
     "slide_type": "subslide"
    }
   },
   "outputs": [
    {
     "data": {
      "text/plain": [
       "{}"
      ]
     },
     "execution_count": 116,
     "metadata": {},
     "output_type": "execute_result"
    }
   ],
   "source": [
    "data_dict"
   ]
  },
  {
   "cell_type": "markdown",
   "id": "f6e9c190",
   "metadata": {
    "slideshow": {
     "slide_type": "slide"
    }
   },
   "source": [
    "We have started wrangling data from an actual website.\n",
    "\n",
    "Now we might want to do this for many whiskies on this site:\n",
    "\n",
    "- How might we start doing this?\n",
    "- Any ideas?"
   ]
  },
  {
   "cell_type": "markdown",
   "id": "42aca37c",
   "metadata": {
    "slideshow": {
     "slide_type": "subslide"
    }
   },
   "source": [
    "When each product site has same tagging structure:\n",
    "\n",
    "- Build function that extracts data like we did.\n",
    "- Loop through each product.\n",
    "- Apply function to each product to scrape data."
   ]
  }
 ],
 "metadata": {
  "celltoolbar": "Slideshow",
  "kernelspec": {
   "display_name": "Python 3.9.12 ('base')",
   "language": "python",
   "name": "python3"
  },
  "language_info": {
   "codemirror_mode": {
    "name": "ipython",
    "version": 3
   },
   "file_extension": ".py",
   "mimetype": "text/x-python",
   "name": "python",
   "nbconvert_exporter": "python",
   "pygments_lexer": "ipython3",
   "version": "3.9.12"
  },
  "vscode": {
   "interpreter": {
    "hash": "3f0653bd30555679cc60e5853b2204587bc8607f0666d413a468e937b04317b4"
   }
  }
 },
 "nbformat": 4,
 "nbformat_minor": 5
}
