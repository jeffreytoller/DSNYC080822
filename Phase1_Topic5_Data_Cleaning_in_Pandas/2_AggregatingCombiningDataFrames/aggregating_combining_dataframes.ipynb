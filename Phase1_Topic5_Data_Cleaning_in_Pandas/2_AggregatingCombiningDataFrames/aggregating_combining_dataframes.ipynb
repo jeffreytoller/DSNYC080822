{
 "cells": [
  {
   "cell_type": "markdown",
   "id": "b1e2e623",
   "metadata": {
    "cell_style": "center",
    "slideshow": {
     "slide_type": "slide"
    }
   },
   "source": [
    "<div style=\"color:white;\n",
    "           display:fill;\n",
    "           border-radius:5px;\n",
    "           background-color:#5642C5;\n",
    "           font-size:200%;\n",
    "           font-family:Arial;letter-spacing:0.5px\">\n",
    "\n",
    "<p width = 20%, style=\"padding: 10px;\n",
    "              color:white;\">\n",
    "Aggregating And Combining DataFrames              \n",
    "</p>\n",
    "</div>\n",
    "\n",
    "Data Science Cohort Live NYC May 2022\n",
    "<p>Phase 1: Topic 5</p>\n",
    "<br>\n",
    "<br>\n",
    "\n",
    "<div align = \"right\">\n",
    "<img src=\"Images/flatiron-school-logo.png\" align = \"right\" width=\"200\"/>\n",
    "</div>\n",
    "    \n",
    "    "
   ]
  },
  {
   "cell_type": "markdown",
   "id": "e19cabca",
   "metadata": {
    "slideshow": {
     "slide_type": "slide"
    }
   },
   "source": [
    "## Objectives\n",
    "\n",
    "- Use GroupBy objects to organize and aggregate data\n",
    "- Create pivot tables from DataFrames\n",
    "- Combine DataFrames by merging, joining, and concatinating"
   ]
  },
  {
   "cell_type": "markdown",
   "id": "861b0f9d",
   "metadata": {
    "slideshow": {
     "slide_type": "slide"
    }
   },
   "source": [
    "Categorical variable taking on a few discrete values.\n",
    "\n",
    "Each of these values form a group. Want to:\n",
    "- Calculate statistics on various quantities for each group (mean, etc.)\n",
    "- Transform/scale certain columns differently for each group.\n",
    "\n",
    "\n",
    "DataFrame.groupby() allows us to do this."
   ]
  },
  {
   "cell_type": "markdown",
   "id": "6f1678c1",
   "metadata": {
    "slideshow": {
     "slide_type": "slide"
    }
   },
   "source": [
    "Take the Titanic dataset again:"
   ]
  },
  {
   "cell_type": "code",
   "execution_count": 1,
   "id": "3309b922",
   "metadata": {
    "slideshow": {
     "slide_type": "fragment"
    }
   },
   "outputs": [
    {
     "data": {
      "text/html": [
       "<div>\n",
       "<style scoped>\n",
       "    .dataframe tbody tr th:only-of-type {\n",
       "        vertical-align: middle;\n",
       "    }\n",
       "\n",
       "    .dataframe tbody tr th {\n",
       "        vertical-align: top;\n",
       "    }\n",
       "\n",
       "    .dataframe thead th {\n",
       "        text-align: right;\n",
       "    }\n",
       "</style>\n",
       "<table border=\"1\" class=\"dataframe\">\n",
       "  <thead>\n",
       "    <tr style=\"text-align: right;\">\n",
       "      <th></th>\n",
       "      <th>PassengerId</th>\n",
       "      <th>Survived</th>\n",
       "      <th>Pclass</th>\n",
       "      <th>Name</th>\n",
       "      <th>Sex</th>\n",
       "      <th>Age</th>\n",
       "      <th>SibSp</th>\n",
       "      <th>Parch</th>\n",
       "      <th>Ticket</th>\n",
       "      <th>Fare</th>\n",
       "      <th>Cabin</th>\n",
       "      <th>Embarked</th>\n",
       "    </tr>\n",
       "  </thead>\n",
       "  <tbody>\n",
       "    <tr>\n",
       "      <th>0</th>\n",
       "      <td>1</td>\n",
       "      <td>0</td>\n",
       "      <td>3</td>\n",
       "      <td>Braund, Mr. Owen Harris</td>\n",
       "      <td>male</td>\n",
       "      <td>22.0</td>\n",
       "      <td>1</td>\n",
       "      <td>0</td>\n",
       "      <td>A/5 21171</td>\n",
       "      <td>7.2500</td>\n",
       "      <td>NaN</td>\n",
       "      <td>S</td>\n",
       "    </tr>\n",
       "    <tr>\n",
       "      <th>1</th>\n",
       "      <td>2</td>\n",
       "      <td>1</td>\n",
       "      <td>1</td>\n",
       "      <td>Cumings, Mrs. John Bradley (Florence Briggs Th...</td>\n",
       "      <td>female</td>\n",
       "      <td>38.0</td>\n",
       "      <td>1</td>\n",
       "      <td>0</td>\n",
       "      <td>PC 17599</td>\n",
       "      <td>71.2833</td>\n",
       "      <td>C85</td>\n",
       "      <td>C</td>\n",
       "    </tr>\n",
       "    <tr>\n",
       "      <th>2</th>\n",
       "      <td>3</td>\n",
       "      <td>1</td>\n",
       "      <td>3</td>\n",
       "      <td>Heikkinen, Miss. Laina</td>\n",
       "      <td>female</td>\n",
       "      <td>26.0</td>\n",
       "      <td>0</td>\n",
       "      <td>0</td>\n",
       "      <td>STON/O2. 3101282</td>\n",
       "      <td>7.9250</td>\n",
       "      <td>NaN</td>\n",
       "      <td>S</td>\n",
       "    </tr>\n",
       "    <tr>\n",
       "      <th>3</th>\n",
       "      <td>4</td>\n",
       "      <td>1</td>\n",
       "      <td>1</td>\n",
       "      <td>Futrelle, Mrs. Jacques Heath (Lily May Peel)</td>\n",
       "      <td>female</td>\n",
       "      <td>35.0</td>\n",
       "      <td>1</td>\n",
       "      <td>0</td>\n",
       "      <td>113803</td>\n",
       "      <td>53.1000</td>\n",
       "      <td>C123</td>\n",
       "      <td>S</td>\n",
       "    </tr>\n",
       "    <tr>\n",
       "      <th>4</th>\n",
       "      <td>5</td>\n",
       "      <td>0</td>\n",
       "      <td>3</td>\n",
       "      <td>Allen, Mr. William Henry</td>\n",
       "      <td>male</td>\n",
       "      <td>35.0</td>\n",
       "      <td>0</td>\n",
       "      <td>0</td>\n",
       "      <td>373450</td>\n",
       "      <td>8.0500</td>\n",
       "      <td>NaN</td>\n",
       "      <td>S</td>\n",
       "    </tr>\n",
       "  </tbody>\n",
       "</table>\n",
       "</div>"
      ],
      "text/plain": [
       "   PassengerId  Survived  Pclass  \\\n",
       "0            1         0       3   \n",
       "1            2         1       1   \n",
       "2            3         1       3   \n",
       "3            4         1       1   \n",
       "4            5         0       3   \n",
       "\n",
       "                                                Name     Sex   Age  SibSp  \\\n",
       "0                            Braund, Mr. Owen Harris    male  22.0      1   \n",
       "1  Cumings, Mrs. John Bradley (Florence Briggs Th...  female  38.0      1   \n",
       "2                             Heikkinen, Miss. Laina  female  26.0      0   \n",
       "3       Futrelle, Mrs. Jacques Heath (Lily May Peel)  female  35.0      1   \n",
       "4                           Allen, Mr. William Henry    male  35.0      0   \n",
       "\n",
       "   Parch            Ticket     Fare Cabin Embarked  \n",
       "0      0         A/5 21171   7.2500   NaN        S  \n",
       "1      0          PC 17599  71.2833   C85        C  \n",
       "2      0  STON/O2. 3101282   7.9250   NaN        S  \n",
       "3      0            113803  53.1000  C123        S  \n",
       "4      0            373450   8.0500   NaN        S  "
      ]
     },
     "execution_count": 1,
     "metadata": {},
     "output_type": "execute_result"
    }
   ],
   "source": [
    "import numpy as np\n",
    "import pandas as pd\n",
    "\n",
    "titanic_df = pd.read_csv('data/titanic.csv')\n",
    "titanic_df.head()"
   ]
  },
  {
   "cell_type": "markdown",
   "id": "fd05fa5b",
   "metadata": {
    "slideshow": {
     "slide_type": "slide"
    }
   },
   "source": [
    "Sex as  relevant categorical variable:\n",
    "- survival rate\n",
    "- distribution of ages\n",
    "- fare"
   ]
  },
  {
   "cell_type": "markdown",
   "id": "2acd2c02",
   "metadata": {
    "slideshow": {
     "slide_type": "slide"
    }
   },
   "source": [
    "# groupby "
   ]
  },
  {
   "cell_type": "code",
   "execution_count": 4,
   "id": "0e82a941",
   "metadata": {
    "slideshow": {
     "slide_type": "fragment"
    }
   },
   "outputs": [
    {
     "data": {
      "text/html": [
       "<div>\n",
       "<style scoped>\n",
       "    .dataframe tbody tr th:only-of-type {\n",
       "        vertical-align: middle;\n",
       "    }\n",
       "\n",
       "    .dataframe tbody tr th {\n",
       "        vertical-align: top;\n",
       "    }\n",
       "\n",
       "    .dataframe thead th {\n",
       "        text-align: right;\n",
       "    }\n",
       "</style>\n",
       "<table border=\"1\" class=\"dataframe\">\n",
       "  <thead>\n",
       "    <tr style=\"text-align: right;\">\n",
       "      <th></th>\n",
       "      <th>PassengerId</th>\n",
       "      <th>Survived</th>\n",
       "      <th>Pclass</th>\n",
       "      <th>Age</th>\n",
       "      <th>SibSp</th>\n",
       "      <th>Parch</th>\n",
       "      <th>Fare</th>\n",
       "    </tr>\n",
       "  </thead>\n",
       "  <tbody>\n",
       "    <tr>\n",
       "      <th>count</th>\n",
       "      <td>891.000000</td>\n",
       "      <td>891.000000</td>\n",
       "      <td>891.000000</td>\n",
       "      <td>714.000000</td>\n",
       "      <td>891.000000</td>\n",
       "      <td>891.000000</td>\n",
       "      <td>891.000000</td>\n",
       "    </tr>\n",
       "    <tr>\n",
       "      <th>mean</th>\n",
       "      <td>446.000000</td>\n",
       "      <td>0.383838</td>\n",
       "      <td>2.308642</td>\n",
       "      <td>29.699118</td>\n",
       "      <td>0.523008</td>\n",
       "      <td>0.381594</td>\n",
       "      <td>32.204208</td>\n",
       "    </tr>\n",
       "    <tr>\n",
       "      <th>std</th>\n",
       "      <td>257.353842</td>\n",
       "      <td>0.486592</td>\n",
       "      <td>0.836071</td>\n",
       "      <td>14.526497</td>\n",
       "      <td>1.102743</td>\n",
       "      <td>0.806057</td>\n",
       "      <td>49.693429</td>\n",
       "    </tr>\n",
       "    <tr>\n",
       "      <th>min</th>\n",
       "      <td>1.000000</td>\n",
       "      <td>0.000000</td>\n",
       "      <td>1.000000</td>\n",
       "      <td>0.420000</td>\n",
       "      <td>0.000000</td>\n",
       "      <td>0.000000</td>\n",
       "      <td>0.000000</td>\n",
       "    </tr>\n",
       "    <tr>\n",
       "      <th>25%</th>\n",
       "      <td>223.500000</td>\n",
       "      <td>0.000000</td>\n",
       "      <td>2.000000</td>\n",
       "      <td>20.125000</td>\n",
       "      <td>0.000000</td>\n",
       "      <td>0.000000</td>\n",
       "      <td>7.910400</td>\n",
       "    </tr>\n",
       "    <tr>\n",
       "      <th>50%</th>\n",
       "      <td>446.000000</td>\n",
       "      <td>0.000000</td>\n",
       "      <td>3.000000</td>\n",
       "      <td>28.000000</td>\n",
       "      <td>0.000000</td>\n",
       "      <td>0.000000</td>\n",
       "      <td>14.454200</td>\n",
       "    </tr>\n",
       "    <tr>\n",
       "      <th>75%</th>\n",
       "      <td>668.500000</td>\n",
       "      <td>1.000000</td>\n",
       "      <td>3.000000</td>\n",
       "      <td>38.000000</td>\n",
       "      <td>1.000000</td>\n",
       "      <td>0.000000</td>\n",
       "      <td>31.000000</td>\n",
       "    </tr>\n",
       "    <tr>\n",
       "      <th>max</th>\n",
       "      <td>891.000000</td>\n",
       "      <td>1.000000</td>\n",
       "      <td>3.000000</td>\n",
       "      <td>80.000000</td>\n",
       "      <td>8.000000</td>\n",
       "      <td>6.000000</td>\n",
       "      <td>512.329200</td>\n",
       "    </tr>\n",
       "  </tbody>\n",
       "</table>\n",
       "</div>"
      ],
      "text/plain": [
       "       PassengerId    Survived      Pclass         Age       SibSp  \\\n",
       "count   891.000000  891.000000  891.000000  714.000000  891.000000   \n",
       "mean    446.000000    0.383838    2.308642   29.699118    0.523008   \n",
       "std     257.353842    0.486592    0.836071   14.526497    1.102743   \n",
       "min       1.000000    0.000000    1.000000    0.420000    0.000000   \n",
       "25%     223.500000    0.000000    2.000000   20.125000    0.000000   \n",
       "50%     446.000000    0.000000    3.000000   28.000000    0.000000   \n",
       "75%     668.500000    1.000000    3.000000   38.000000    1.000000   \n",
       "max     891.000000    1.000000    3.000000   80.000000    8.000000   \n",
       "\n",
       "            Parch        Fare  \n",
       "count  891.000000  891.000000  \n",
       "mean     0.381594   32.204208  \n",
       "std      0.806057   49.693429  \n",
       "min      0.000000    0.000000  \n",
       "25%      0.000000    7.910400  \n",
       "50%      0.000000   14.454200  \n",
       "75%      0.000000   31.000000  \n",
       "max      6.000000  512.329200  "
      ]
     },
     "execution_count": 4,
     "metadata": {},
     "output_type": "execute_result"
    }
   ],
   "source": [
    "titanic_subset = titanic_df[['Sex', 'Survived', 'Age', 'Fare']]\n",
    "titanic_subset.groupby('Sex')\n",
    "titanic_df.describe()"
   ]
  },
  {
   "cell_type": "markdown",
   "id": "7cb5c1d0",
   "metadata": {
    "slideshow": {
     "slide_type": "fragment"
    }
   },
   "source": [
    "groupby object has many useful methods for processing data by group."
   ]
  },
  {
   "cell_type": "markdown",
   "id": "8648838a",
   "metadata": {
    "slideshow": {
     "slide_type": "slide"
    }
   },
   "source": [
    "#### Aggregation methods \n",
    "\n",
    "- Methods that compute statistics across the different groups.\n",
    "- Common aggregation methods:\n",
    "    - .min(): returns the minimum value for each column by group\n",
    "    - .max(): returns the maximum value for each column by group\n",
    "    - .mean(): returns the average value for each column by group\n",
    "    - .median(): returns the median value for each column by group\n",
    "    - .count(): returns the count of each column by group\n",
    "    - .sum(): return sum of each column by group"
   ]
  },
  {
   "cell_type": "markdown",
   "id": "624681ac",
   "metadata": {
    "slideshow": {
     "slide_type": "slide"
    }
   },
   "source": [
    "Computing the mean of columns by group:\n",
    "- Note: mean of Survived is the survival fraction."
   ]
  },
  {
   "cell_type": "code",
   "execution_count": 5,
   "id": "9c943888",
   "metadata": {
    "cell_style": "center",
    "slideshow": {
     "slide_type": "fragment"
    }
   },
   "outputs": [
    {
     "data": {
      "text/html": [
       "<div>\n",
       "<style scoped>\n",
       "    .dataframe tbody tr th:only-of-type {\n",
       "        vertical-align: middle;\n",
       "    }\n",
       "\n",
       "    .dataframe tbody tr th {\n",
       "        vertical-align: top;\n",
       "    }\n",
       "\n",
       "    .dataframe thead th {\n",
       "        text-align: right;\n",
       "    }\n",
       "</style>\n",
       "<table border=\"1\" class=\"dataframe\">\n",
       "  <thead>\n",
       "    <tr style=\"text-align: right;\">\n",
       "      <th></th>\n",
       "      <th>Survived</th>\n",
       "      <th>Age</th>\n",
       "      <th>Fare</th>\n",
       "    </tr>\n",
       "    <tr>\n",
       "      <th>Sex</th>\n",
       "      <th></th>\n",
       "      <th></th>\n",
       "      <th></th>\n",
       "    </tr>\n",
       "  </thead>\n",
       "  <tbody>\n",
       "    <tr>\n",
       "      <th>female</th>\n",
       "      <td>0.742038</td>\n",
       "      <td>27.915709</td>\n",
       "      <td>44.479818</td>\n",
       "    </tr>\n",
       "    <tr>\n",
       "      <th>male</th>\n",
       "      <td>0.188908</td>\n",
       "      <td>30.726645</td>\n",
       "      <td>25.523893</td>\n",
       "    </tr>\n",
       "  </tbody>\n",
       "</table>\n",
       "</div>"
      ],
      "text/plain": [
       "        Survived        Age       Fare\n",
       "Sex                                   \n",
       "female  0.742038  27.915709  44.479818\n",
       "male    0.188908  30.726645  25.523893"
      ]
     },
     "execution_count": 5,
     "metadata": {},
     "output_type": "execute_result"
    }
   ],
   "source": [
    "titanic_subset.groupby('Sex').mean()"
   ]
  },
  {
   "cell_type": "code",
   "execution_count": 6,
   "id": "1c145b7e",
   "metadata": {
    "cell_style": "center",
    "slideshow": {
     "slide_type": "fragment"
    }
   },
   "outputs": [
    {
     "data": {
      "text/plain": [
       "Sex\n",
       "female    44.479818\n",
       "male      25.523893\n",
       "Name: Fare, dtype: float64"
      ]
     },
     "execution_count": 6,
     "metadata": {},
     "output_type": "execute_result"
    }
   ],
   "source": [
    "titanic_subset.groupby('Sex')['Fare'].mean()"
   ]
  },
  {
   "cell_type": "markdown",
   "id": "b0bf6ecb",
   "metadata": {
    "cell_style": "center",
    "slideshow": {
     "slide_type": "fragment"
    }
   },
   "source": [
    "Any obvious distinctions between groups here?"
   ]
  },
  {
   "cell_type": "markdown",
   "id": "775e214d",
   "metadata": {
    "slideshow": {
     "slide_type": "slide"
    }
   },
   "source": [
    "#### .agg(func) method\n",
    "Can write your own aggregations.\n",
    "- Get square root of the sum of squares of desired columns."
   ]
  },
  {
   "cell_type": "code",
   "execution_count": 12,
   "id": "912a1728",
   "metadata": {
    "slideshow": {
     "slide_type": "fragment"
    }
   },
   "outputs": [
    {
     "data": {
      "text/plain": [
       "male      0.647587\n",
       "female    0.352413\n",
       "Name: Sex, dtype: float64"
      ]
     },
     "execution_count": 12,
     "metadata": {},
     "output_type": "execute_result"
    }
   ],
   "source": [
    "titanic_subset.groupby('Sex').agg(lambda x: np.sqrt(np.sum(x**2)))\n",
    "titanic_subset['Sex'].value_counts(normalize=True)"
   ]
  },
  {
   "cell_type": "markdown",
   "id": "a32b72e9",
   "metadata": {
    "slideshow": {
     "slide_type": "slide"
    }
   },
   "source": [
    "#### .transform(func) method\n",
    "- This is not an aggregation.\n",
    "- Transforms entries in each column differently according to their group.\n",
    "\n",
    "\n"
   ]
  },
  {
   "cell_type": "markdown",
   "id": "9ec1a61b",
   "metadata": {
    "slideshow": {
     "slide_type": "fragment"
    }
   },
   "source": [
    "Example: standardize columns for each sex separately:\n",
    "\n",
    "- Subtract entries of columns in each sex category by the column mean for that sex.\n",
    "- Then divide by the standard deviation of fare for that sex."
   ]
  },
  {
   "cell_type": "code",
   "execution_count": 13,
   "id": "4e3c2a6d",
   "metadata": {
    "scrolled": true,
    "slideshow": {
     "slide_type": "slide"
    }
   },
   "outputs": [
    {
     "data": {
      "text/html": [
       "<div>\n",
       "<style scoped>\n",
       "    .dataframe tbody tr th:only-of-type {\n",
       "        vertical-align: middle;\n",
       "    }\n",
       "\n",
       "    .dataframe tbody tr th {\n",
       "        vertical-align: top;\n",
       "    }\n",
       "\n",
       "    .dataframe thead th {\n",
       "        text-align: right;\n",
       "    }\n",
       "</style>\n",
       "<table border=\"1\" class=\"dataframe\">\n",
       "  <thead>\n",
       "    <tr style=\"text-align: right;\">\n",
       "      <th></th>\n",
       "      <th>Survived</th>\n",
       "      <th>Age</th>\n",
       "      <th>Fare</th>\n",
       "    </tr>\n",
       "  </thead>\n",
       "  <tbody>\n",
       "    <tr>\n",
       "      <th>0</th>\n",
       "      <td>-0.482185</td>\n",
       "      <td>-0.594531</td>\n",
       "      <td>-0.423612</td>\n",
       "    </tr>\n",
       "    <tr>\n",
       "      <th>1</th>\n",
       "      <td>0.588670</td>\n",
       "      <td>0.714684</td>\n",
       "      <td>0.462147</td>\n",
       "    </tr>\n",
       "    <tr>\n",
       "      <th>2</th>\n",
       "      <td>0.588670</td>\n",
       "      <td>-0.135768</td>\n",
       "      <td>-0.630280</td>\n",
       "    </tr>\n",
       "    <tr>\n",
       "      <th>3</th>\n",
       "      <td>0.588670</td>\n",
       "      <td>0.502071</td>\n",
       "      <td>0.148630</td>\n",
       "    </tr>\n",
       "    <tr>\n",
       "      <th>4</th>\n",
       "      <td>-0.482185</td>\n",
       "      <td>0.291136</td>\n",
       "      <td>-0.405067</td>\n",
       "    </tr>\n",
       "    <tr>\n",
       "      <th>...</th>\n",
       "      <td>...</td>\n",
       "      <td>...</td>\n",
       "      <td>...</td>\n",
       "    </tr>\n",
       "    <tr>\n",
       "      <th>886</th>\n",
       "      <td>-0.482185</td>\n",
       "      <td>-0.253890</td>\n",
       "      <td>-0.290320</td>\n",
       "    </tr>\n",
       "    <tr>\n",
       "      <th>887</th>\n",
       "      <td>0.588670</td>\n",
       "      <td>-0.631865</td>\n",
       "      <td>-0.249662</td>\n",
       "    </tr>\n",
       "    <tr>\n",
       "      <th>888</th>\n",
       "      <td>-1.693335</td>\n",
       "      <td>NaN</td>\n",
       "      <td>-0.362597</td>\n",
       "    </tr>\n",
       "    <tr>\n",
       "      <th>889</th>\n",
       "      <td>2.070299</td>\n",
       "      <td>-0.322018</td>\n",
       "      <td>0.103762</td>\n",
       "    </tr>\n",
       "    <tr>\n",
       "      <th>890</th>\n",
       "      <td>-0.482185</td>\n",
       "      <td>0.086751</td>\n",
       "      <td>-0.412022</td>\n",
       "    </tr>\n",
       "  </tbody>\n",
       "</table>\n",
       "<p>891 rows × 3 columns</p>\n",
       "</div>"
      ],
      "text/plain": [
       "     Survived       Age      Fare\n",
       "0   -0.482185 -0.594531 -0.423612\n",
       "1    0.588670  0.714684  0.462147\n",
       "2    0.588670 -0.135768 -0.630280\n",
       "3    0.588670  0.502071  0.148630\n",
       "4   -0.482185  0.291136 -0.405067\n",
       "..        ...       ...       ...\n",
       "886 -0.482185 -0.253890 -0.290320\n",
       "887  0.588670 -0.631865 -0.249662\n",
       "888 -1.693335       NaN -0.362597\n",
       "889  2.070299 -0.322018  0.103762\n",
       "890 -0.482185  0.086751 -0.412022\n",
       "\n",
       "[891 rows x 3 columns]"
      ]
     },
     "execution_count": 13,
     "metadata": {},
     "output_type": "execute_result"
    }
   ],
   "source": [
    "titanic_subset.groupby('Sex').transform(lambda col: (col - col.mean())/col.std(ddof = 1) )"
   ]
  },
  {
   "cell_type": "markdown",
   "id": "0185da2a",
   "metadata": {
    "slideshow": {
     "slide_type": "slide"
    }
   },
   "source": [
    "#### Grouping by multiple categorical variables\n",
    "\n",
    "- Split data into multiple levels of groups. \n",
    "- Group by sex (Male/Female) with subgroups in each according to passenger class.\n",
    "\n",
    "df.groupby() takes in list of categorical columns to group on:"
   ]
  },
  {
   "cell_type": "code",
   "execution_count": 14,
   "id": "cd1eef20",
   "metadata": {
    "slideshow": {
     "slide_type": "fragment"
    }
   },
   "outputs": [
    {
     "data": {
      "text/plain": [
       "<pandas.core.groupby.generic.DataFrameGroupBy object at 0x00000276AB43D100>"
      ]
     },
     "execution_count": 14,
     "metadata": {},
     "output_type": "execute_result"
    }
   ],
   "source": [
    "titanic_subset2 = titanic_df[['Sex', 'Pclass', 'Survived', 'Age', 'Fare']]\n",
    "titanic_subset2.groupby(['Sex','Pclass'])"
   ]
  },
  {
   "cell_type": "markdown",
   "id": "b56c79fc",
   "metadata": {
    "slideshow": {
     "slide_type": "slide"
    }
   },
   "source": [
    "Calculate mean of attributes within these groups/subgroups:"
   ]
  },
  {
   "cell_type": "code",
   "execution_count": 16,
   "id": "3534e9ad",
   "metadata": {
    "slideshow": {
     "slide_type": "fragment"
    }
   },
   "outputs": [
    {
     "data": {
      "text/html": [
       "<div>\n",
       "<style scoped>\n",
       "    .dataframe tbody tr th:only-of-type {\n",
       "        vertical-align: middle;\n",
       "    }\n",
       "\n",
       "    .dataframe tbody tr th {\n",
       "        vertical-align: top;\n",
       "    }\n",
       "\n",
       "    .dataframe thead th {\n",
       "        text-align: right;\n",
       "    }\n",
       "</style>\n",
       "<table border=\"1\" class=\"dataframe\">\n",
       "  <thead>\n",
       "    <tr style=\"text-align: right;\">\n",
       "      <th></th>\n",
       "      <th></th>\n",
       "      <th>Survived</th>\n",
       "      <th>Age</th>\n",
       "      <th>Fare</th>\n",
       "    </tr>\n",
       "    <tr>\n",
       "      <th>Sex</th>\n",
       "      <th>Pclass</th>\n",
       "      <th></th>\n",
       "      <th></th>\n",
       "      <th></th>\n",
       "    </tr>\n",
       "  </thead>\n",
       "  <tbody>\n",
       "    <tr>\n",
       "      <th rowspan=\"3\" valign=\"top\">female</th>\n",
       "      <th>1</th>\n",
       "      <td>0.968085</td>\n",
       "      <td>34.611765</td>\n",
       "      <td>106.125798</td>\n",
       "    </tr>\n",
       "    <tr>\n",
       "      <th>2</th>\n",
       "      <td>0.921053</td>\n",
       "      <td>28.722973</td>\n",
       "      <td>21.970121</td>\n",
       "    </tr>\n",
       "    <tr>\n",
       "      <th>3</th>\n",
       "      <td>0.500000</td>\n",
       "      <td>21.750000</td>\n",
       "      <td>16.118810</td>\n",
       "    </tr>\n",
       "    <tr>\n",
       "      <th rowspan=\"3\" valign=\"top\">male</th>\n",
       "      <th>1</th>\n",
       "      <td>0.368852</td>\n",
       "      <td>41.281386</td>\n",
       "      <td>67.226127</td>\n",
       "    </tr>\n",
       "    <tr>\n",
       "      <th>2</th>\n",
       "      <td>0.157407</td>\n",
       "      <td>30.740707</td>\n",
       "      <td>19.741782</td>\n",
       "    </tr>\n",
       "    <tr>\n",
       "      <th>3</th>\n",
       "      <td>0.135447</td>\n",
       "      <td>26.507589</td>\n",
       "      <td>12.661633</td>\n",
       "    </tr>\n",
       "  </tbody>\n",
       "</table>\n",
       "</div>"
      ],
      "text/plain": [
       "               Survived        Age        Fare\n",
       "Sex    Pclass                                 \n",
       "female 1       0.968085  34.611765  106.125798\n",
       "       2       0.921053  28.722973   21.970121\n",
       "       3       0.500000  21.750000   16.118810\n",
       "male   1       0.368852  41.281386   67.226127\n",
       "       2       0.157407  30.740707   19.741782\n",
       "       3       0.135447  26.507589   12.661633"
      ]
     },
     "execution_count": 16,
     "metadata": {},
     "output_type": "execute_result"
    }
   ],
   "source": [
    "#grouped_df = titanic_subset2.groupby(['Sex','Pclass']).mean()\n",
    "grouped_df = titanic_subset2.groupby(by =['Sex','Pclass']).agg('mean')\n",
    "\n",
    "grouped_df"
   ]
  },
  {
   "cell_type": "markdown",
   "id": "837df914",
   "metadata": {
    "slideshow": {
     "slide_type": "slide"
    }
   },
   "source": [
    "#### Basic Ideas of Data Shaping in Pandas\n",
    "1. Wide vs. Long Formats\n"
   ]
  },
  {
   "cell_type": "markdown",
   "id": "1a0da265",
   "metadata": {
    "cell_style": "split",
    "slideshow": {
     "slide_type": "fragment"
    }
   },
   "source": [
    "<div>\n",
    "    <center><img src=\"Images/hw_wide.png\" align = \"center\" width=\"400\"/></center>\n",
    "    <center>Wide format</center>\n",
    "</div>\n",
    "    "
   ]
  },
  {
   "cell_type": "markdown",
   "id": "aaeeb062",
   "metadata": {
    "cell_style": "split",
    "slideshow": {
     "slide_type": "fragment"
    }
   },
   "source": [
    "<div align>\n",
    "        <center><img src=\"Images/hw_long.png\" align = \"center\" width=\"300\"/></center>\n",
    "    <center>Long format</center>\n",
    "</div>"
   ]
  },
  {
   "cell_type": "markdown",
   "id": "6fb8fabb",
   "metadata": {
    "slideshow": {
     "slide_type": "slide"
    }
   },
   "source": [
    "#### Pivoting\n",
    "\n",
    "- Convert from a long to a wide format:\n",
    "\n",
    "   - DataFrame.pivot(index, columns, values):\n",
    "  \n",
    " One attribute becomes index, values in other attribute becomes labels for new columns.\n",
    " \n",
    " Best to see an example:"
   ]
  },
  {
   "cell_type": "code",
   "execution_count": 20,
   "id": "ad26e178",
   "metadata": {
    "cell_style": "center",
    "slideshow": {
     "slide_type": "slide"
    }
   },
   "outputs": [
    {
     "data": {
      "text/html": [
       "<div>\n",
       "<style scoped>\n",
       "    .dataframe tbody tr th:only-of-type {\n",
       "        vertical-align: middle;\n",
       "    }\n",
       "\n",
       "    .dataframe tbody tr th {\n",
       "        vertical-align: top;\n",
       "    }\n",
       "\n",
       "    .dataframe thead th {\n",
       "        text-align: right;\n",
       "    }\n",
       "</style>\n",
       "<table border=\"1\" class=\"dataframe\">\n",
       "  <thead>\n",
       "    <tr style=\"text-align: right;\">\n",
       "      <th></th>\n",
       "      <th>name</th>\n",
       "      <th>attribute</th>\n",
       "      <th>value</th>\n",
       "    </tr>\n",
       "  </thead>\n",
       "  <tbody>\n",
       "    <tr>\n",
       "      <th>0</th>\n",
       "      <td>John</td>\n",
       "      <td>Height</td>\n",
       "      <td>182</td>\n",
       "    </tr>\n",
       "    <tr>\n",
       "      <th>1</th>\n",
       "      <td>Christopher</td>\n",
       "      <td>Weight</td>\n",
       "      <td>160</td>\n",
       "    </tr>\n",
       "    <tr>\n",
       "      <th>2</th>\n",
       "      <td>Melinda</td>\n",
       "      <td>Height</td>\n",
       "      <td>130</td>\n",
       "    </tr>\n",
       "    <tr>\n",
       "      <th>3</th>\n",
       "      <td>John</td>\n",
       "      <td>Weight</td>\n",
       "      <td>78</td>\n",
       "    </tr>\n",
       "    <tr>\n",
       "      <th>4</th>\n",
       "      <td>Christopher</td>\n",
       "      <td>Height</td>\n",
       "      <td>67</td>\n",
       "    </tr>\n",
       "    <tr>\n",
       "      <th>5</th>\n",
       "      <td>Melinda</td>\n",
       "      <td>Weight</td>\n",
       "      <td>52</td>\n",
       "    </tr>\n",
       "  </tbody>\n",
       "</table>\n",
       "</div>"
      ],
      "text/plain": [
       "          name attribute value\n",
       "0         John    Height   182\n",
       "1  Christopher    Weight   160\n",
       "2      Melinda    Height   130\n",
       "3         John    Weight    78\n",
       "4  Christopher    Height    67\n",
       "5      Melinda    Weight    52"
      ]
     },
     "execution_count": 20,
     "metadata": {},
     "output_type": "execute_result"
    }
   ],
   "source": [
    "value_list = [182, 160, 130, 78, 67, 52]\n",
    "physical_data = pd.DataFrame(np.array([['John', 'Christopher', 'Melinda']*2, ['Height', 'Weight']*3, value_list]).T,\n",
    "             columns = ['name', 'attribute', 'value'])\n",
    "\n",
    "physical_data"
   ]
  },
  {
   "cell_type": "markdown",
   "id": "664b5536",
   "metadata": {
    "cell_style": "center",
    "slideshow": {
     "slide_type": "fragment"
    }
   },
   "source": [
    "This is long form. Use pivot to convert to wide format."
   ]
  },
  {
   "cell_type": "code",
   "execution_count": 18,
   "id": "b5ee9ee4",
   "metadata": {
    "cell_style": "center",
    "slideshow": {
     "slide_type": "slide"
    }
   },
   "outputs": [
    {
     "data": {
      "text/html": [
       "<div>\n",
       "<style scoped>\n",
       "    .dataframe tbody tr th:only-of-type {\n",
       "        vertical-align: middle;\n",
       "    }\n",
       "\n",
       "    .dataframe tbody tr th {\n",
       "        vertical-align: top;\n",
       "    }\n",
       "\n",
       "    .dataframe thead th {\n",
       "        text-align: right;\n",
       "    }\n",
       "</style>\n",
       "<table border=\"1\" class=\"dataframe\">\n",
       "  <thead>\n",
       "    <tr style=\"text-align: right;\">\n",
       "      <th>attribute</th>\n",
       "      <th>Height</th>\n",
       "      <th>Weight</th>\n",
       "    </tr>\n",
       "    <tr>\n",
       "      <th>name</th>\n",
       "      <th></th>\n",
       "      <th></th>\n",
       "    </tr>\n",
       "  </thead>\n",
       "  <tbody>\n",
       "    <tr>\n",
       "      <th>Christopher</th>\n",
       "      <td>67</td>\n",
       "      <td>160</td>\n",
       "    </tr>\n",
       "    <tr>\n",
       "      <th>John</th>\n",
       "      <td>182</td>\n",
       "      <td>78</td>\n",
       "    </tr>\n",
       "    <tr>\n",
       "      <th>Melinda</th>\n",
       "      <td>130</td>\n",
       "      <td>52</td>\n",
       "    </tr>\n",
       "  </tbody>\n",
       "</table>\n",
       "</div>"
      ],
      "text/plain": [
       "attribute   Height Weight\n",
       "name                     \n",
       "Christopher     67    160\n",
       "John           182     78\n",
       "Melinda        130     52"
      ]
     },
     "execution_count": 18,
     "metadata": {},
     "output_type": "execute_result"
    }
   ],
   "source": [
    "wide_form = physical_data.pivot(index = 'name', columns = 'attribute', values = 'value')\n",
    "wide_form"
   ]
  },
  {
   "cell_type": "markdown",
   "id": "60ec723b",
   "metadata": {
    "slideshow": {
     "slide_type": "slide"
    }
   },
   "source": [
    "#### Melting: the inverse of pivoting.\n",
    "\n",
    "- Take data from wide to long format.\n",
    "- pd.melt(dataframe, id_vars, value_vars, var_name, value_name)"
   ]
  },
  {
   "cell_type": "code",
   "execution_count": null,
   "id": "fcec8a36",
   "metadata": {
    "cell_style": "split",
    "slideshow": {
     "slide_type": "fragment"
    }
   },
   "outputs": [],
   "source": [
    "wide_form.reset_index(inplace = True)\n",
    "wide_form"
   ]
  },
  {
   "cell_type": "code",
   "execution_count": null,
   "id": "0eac6516",
   "metadata": {
    "cell_style": "split",
    "slideshow": {
     "slide_type": "fragment"
    }
   },
   "outputs": [],
   "source": [
    "pd.melt(wide_form, \n",
    "        id_vars = ['name'], \n",
    "        value_vars = ['Height', 'Weight'])"
   ]
  },
  {
   "cell_type": "markdown",
   "id": "53b61e6b",
   "metadata": {
    "slideshow": {
     "slide_type": "slide"
    }
   },
   "source": [
    "#### Pivot Tables\n",
    "\n",
    "- When the columns you want to pivot on have non-unique entries.\n",
    "- E.g., temperature as function of position X,Y for a given month but multiple measurements at each X,Y\n",
    "- Want average of these measurements at each X,Y in pivoted form:\n",
    "\n",
    "    - df.pivot_table(..., aggfunc = __)"
   ]
  },
  {
   "cell_type": "markdown",
   "id": "0ce45f85",
   "metadata": {
    "slideshow": {
     "slide_type": "fragment"
    }
   },
   "source": [
    "Forest fire dataset:\n",
    "\n",
    "Looks at temperature logged at various X, Y positions in a forest over several months."
   ]
  },
  {
   "cell_type": "code",
   "execution_count": null,
   "id": "b4e5e858",
   "metadata": {
    "slideshow": {
     "slide_type": "slide"
    }
   },
   "outputs": [],
   "source": [
    "forest_df = pd.read_csv('Data/forestfires.csv', usecols = ['X', 'Y', 'month', 'day', 'temp'])\n",
    "inamonth_df = forest_df[(forest_df['month'] == 'mar')]\n",
    "\n",
    "inamonth_df.head(10)"
   ]
  },
  {
   "cell_type": "markdown",
   "id": "06f9649c",
   "metadata": {
    "slideshow": {
     "slide_type": "slide"
    }
   },
   "source": [
    "Average temperature at (X, Y) positions for March. Organized as pivot table:"
   ]
  },
  {
   "cell_type": "code",
   "execution_count": null,
   "id": "345913cb",
   "metadata": {
    "slideshow": {
     "slide_type": "slide"
    }
   },
   "outputs": [],
   "source": [
    "inamonth_df.pivot_table(index = 'X', columns = 'Y', values = 'temp', aggfunc = 'mean')"
   ]
  },
  {
   "cell_type": "markdown",
   "id": "3b87af2c",
   "metadata": {
    "slideshow": {
     "slide_type": "slide"
    }
   },
   "source": [
    "#### Multiindexing\n",
    "- Setting multiple columns as index\n",
    "- Setting hierarchies.\n",
    "- Accessing data in multi-indexed DataFrames."
   ]
  },
  {
   "cell_type": "markdown",
   "id": "baad5c05",
   "metadata": {
    "slideshow": {
     "slide_type": "fragment"
    }
   },
   "source": [
    "Airfoil noise dataset:\n",
    "- Various factors affecting sound amplitude off of airplane wings."
   ]
  },
  {
   "cell_type": "code",
   "execution_count": null,
   "id": "f8bc0997",
   "metadata": {
    "slideshow": {
     "slide_type": "slide"
    }
   },
   "outputs": [],
   "source": [
    "colnames = ['Frequency [Hz]', 'Angle of attack [deg]', \\\n",
    "            'Chord length [m]', 'Free-stream velocity [m/s]', \\\n",
    "            'Suction side thickness [m]', 'Sound volume [dB]']\n",
    "airfoil_df = pd.read_csv('Data/airfoil_self_noise.dat', delimiter='\\t', header = None, names = colnames  )\n",
    "\n",
    "airfoil_df.head()"
   ]
  },
  {
   "cell_type": "markdown",
   "id": "c1b59694",
   "metadata": {
    "slideshow": {
     "slide_type": "slide"
    }
   },
   "source": [
    "Setting multiple attributes as indices can give us flexibility in addressing the data.\n",
    "- How does sound amplitude depend just on frequency, stream velocity, and foil chord length?\n",
    "- Create hierarchical Multiindex:"
   ]
  },
  {
   "cell_type": "code",
   "execution_count": null,
   "id": "a01b71fc",
   "metadata": {
    "slideshow": {
     "slide_type": "fragment"
    }
   },
   "outputs": [],
   "source": [
    "col_subset = ['Frequency [Hz]', 'Free-stream velocity [m/s]', 'Angle of attack [deg]', 'Sound volume [dB]']\n",
    "airfoil_df = airfoil_df[col_subset].set_index(col_subset[0:3])\n",
    "airfoil_df.head()"
   ]
  },
  {
   "cell_type": "markdown",
   "id": "ed96ff4c",
   "metadata": {
    "slideshow": {
     "slide_type": "fragment"
    }
   },
   "source": [
    "Moved columns to index, but hierarchical structure of indices not set:\n",
    "- Can be accomplished with the .sort_index() method."
   ]
  },
  {
   "cell_type": "code",
   "execution_count": null,
   "id": "7d319b3f",
   "metadata": {
    "slideshow": {
     "slide_type": "slide"
    }
   },
   "outputs": [],
   "source": [
    "airfoil_df = airfoil_df.sort_index()\n",
    "airfoil_df.head(10)"
   ]
  },
  {
   "cell_type": "markdown",
   "id": "14b1ef22",
   "metadata": {
    "slideshow": {
     "slide_type": "slide"
    }
   },
   "source": [
    "#### Accessing via the .loc accessor on multi-indices\n",
    "-DataFrame.loc[first_level_index, columns]\n",
    "- Dataframe.loc[(first_level_index, second_level_index, third_level_index), columns]"
   ]
  },
  {
   "cell_type": "code",
   "execution_count": null,
   "id": "5300e72e",
   "metadata": {
    "cell_style": "split",
    "slideshow": {
     "slide_type": "fragment"
    }
   },
   "outputs": [],
   "source": [
    "# at frequency = 1000 Hz\n",
    "airfoil_df.loc[1000, :]"
   ]
  },
  {
   "cell_type": "code",
   "execution_count": null,
   "id": "6dbe8c8d",
   "metadata": {
    "cell_style": "split",
    "slideshow": {
     "slide_type": "fragment"
    }
   },
   "outputs": [],
   "source": [
    "# sound vol vs angle of attack\n",
    "# fixed at 1000 Hz, 55.5 m/s stream velocity\n",
    "airfoil_df.loc[(1000, 55.5)]"
   ]
  },
  {
   "cell_type": "markdown",
   "id": "d998c36a",
   "metadata": {
    "slideshow": {
     "slide_type": "slide"
    }
   },
   "source": [
    "Swapping level hierarchy:\n",
    "- Look at measurement/response keeping one variable fixed and varying another.\n",
    "- Swapping level hierarchy switches which we keep fixed and which we vary.\n"
   ]
  },
  {
   "cell_type": "code",
   "execution_count": null,
   "id": "1c084648",
   "metadata": {
    "slideshow": {
     "slide_type": "fragment"
    }
   },
   "outputs": [],
   "source": [
    "swapped_df = airfoil_df.swaplevel('Free-stream velocity [m/s]', 'Angle of attack [deg]').sort_index()"
   ]
  },
  {
   "cell_type": "code",
   "execution_count": null,
   "id": "9aacc71a",
   "metadata": {
    "cell_style": "split",
    "slideshow": {
     "slide_type": "fragment"
    }
   },
   "outputs": [],
   "source": [
    "swapped_df.head()"
   ]
  },
  {
   "cell_type": "code",
   "execution_count": null,
   "id": "66f269c8",
   "metadata": {
    "cell_style": "split",
    "slideshow": {
     "slide_type": "fragment"
    }
   },
   "outputs": [],
   "source": [
    "swapped_df.loc[(1000, 7.3)]"
   ]
  },
  {
   "cell_type": "markdown",
   "id": "6aa4517a",
   "metadata": {
    "slideshow": {
     "slide_type": "slide"
    }
   },
   "source": [
    "Multi-indexing opens up many possibilities for data manipulation.\n",
    "\n",
    "Strongly encourage you to look at supplementary material and pandas documentation!"
   ]
  },
  {
   "cell_type": "markdown",
   "id": "d943e9d4",
   "metadata": {
    "cell_style": "center",
    "slideshow": {
     "slide_type": "slide"
    }
   },
   "source": [
    "# Methods for Combining DataFrames: `.join()`, `.merge()`, `.concat()`\n",
    "\n",
    "Many ways to combine dataframes! Luckily, pandas has great docs: https://pandas.pydata.org/pandas-docs/stable/user_guide/merging.html"
   ]
  },
  {
   "cell_type": "markdown",
   "id": "9c31a4ab",
   "metadata": {
    "slideshow": {
     "slide_type": "slide"
    }
   },
   "source": [
    "# Concat"
   ]
  },
  {
   "cell_type": "code",
   "execution_count": null,
   "id": "4b96b541",
   "metadata": {
    "cell_style": "split",
    "slideshow": {
     "slide_type": "fragment"
    }
   },
   "outputs": [],
   "source": [
    "ds_chars = pd.read_csv('data/ds_chars.csv', index_col=0)\n",
    "ds_chars"
   ]
  },
  {
   "cell_type": "code",
   "execution_count": null,
   "id": "3ea147ff",
   "metadata": {
    "cell_style": "split",
    "slideshow": {
     "slide_type": "fragment"
    }
   },
   "outputs": [],
   "source": [
    "prefs = pd.read_csv('data/preferences.csv', index_col=0)\n",
    "prefs"
   ]
  },
  {
   "cell_type": "markdown",
   "id": "21d36466",
   "metadata": {
    "slideshow": {
     "slide_type": "fragment"
    }
   },
   "source": [
    "Would you concat on axis = 0 or axis = 1"
   ]
  },
  {
   "cell_type": "code",
   "execution_count": null,
   "id": "e6a25567",
   "metadata": {
    "slideshow": {
     "slide_type": "slide"
    }
   },
   "outputs": [],
   "source": [
    "ds_full = pd.concat([ds_chars, prefs], axis=1)\n",
    "ds_full"
   ]
  },
  {
   "cell_type": "markdown",
   "id": "561175a2",
   "metadata": {
    "slideshow": {
     "slide_type": "slide"
    }
   },
   "source": [
    "# join & merge\n",
    "\n",
    "Datasets do not have to have same rows or columns.\n",
    "- Just a common key (or set of keys) used to match records.\n",
    "\n",
    "pd.merge() is the most flexible workhorse function for this:"
   ]
  },
  {
   "cell_type": "markdown",
   "id": "44397faa",
   "metadata": {
    "slideshow": {
     "slide_type": "slide"
    }
   },
   "source": [
    "This parameter in both `.join()` and `.merge()` tells the compiler what sort of join to effect. We'll cover this in detail when we discuss SQL.\n",
    "\n",
    "![image showcasing how the how parameter in a join/merge would combine the two datasets, using venn-style diagrams](https://www.datasciencemadesimple.com/wp-content/uploads/2017/09/join-or-merge-in-python-pandas-1.png)\n",
    "[[Image Source]](https://www.datasciencemadesimple.com/join-merge-data-frames-pandas-python/)"
   ]
  },
  {
   "cell_type": "code",
   "execution_count": null,
   "id": "a6e829de",
   "metadata": {
    "slideshow": {
     "slide_type": "slide"
    }
   },
   "outputs": [],
   "source": [
    "# create two datasets\n",
    "import pandas as pd\n",
    "df1 = pd.DataFrame({'employee': ['Chadwick', 'Bartholemew', 'Jake', 'Brunnhilde', 'Sue', 'Jimbo Jr.'],\n",
    "                    'group': ['Building' ,'Accounting', 'Engineering', 'Engineering', 'HR', 'Compliance']})\n",
    "\n",
    "df2 = pd.DataFrame({'group': ['Accounting', 'Engineering', 'HR', 'Endowment'],\n",
    "                    'supervisor': ['Carly', 'Guido', 'Steve', 'Eileen']})\n",
    "df3 = pd.DataFrame({'name': ['Brunnhilde', 'Bartholemew', 'Jake', 'Sue'],\n",
    "                    'hire_date': [2004, 2008, 2012, 2014]})\n"
   ]
  },
  {
   "cell_type": "code",
   "execution_count": null,
   "id": "ecbdfe39",
   "metadata": {
    "cell_style": "split",
    "slideshow": {
     "slide_type": "slide"
    }
   },
   "outputs": [],
   "source": [
    "df1"
   ]
  },
  {
   "cell_type": "code",
   "execution_count": null,
   "id": "a678725a",
   "metadata": {
    "cell_style": "split",
    "slideshow": {
     "slide_type": "fragment"
    }
   },
   "outputs": [],
   "source": [
    "df2"
   ]
  },
  {
   "cell_type": "code",
   "execution_count": null,
   "id": "2a412811",
   "metadata": {
    "slideshow": {
     "slide_type": "fragment"
    }
   },
   "outputs": [],
   "source": [
    "pd.merge(df1, df2, how = 'inner', on = 'group')"
   ]
  },
  {
   "cell_type": "code",
   "execution_count": null,
   "id": "211e96e3",
   "metadata": {
    "cell_style": "split",
    "slideshow": {
     "slide_type": "fragment"
    }
   },
   "outputs": [],
   "source": [
    "pd.merge(df1, df2, how = 'left', on = 'group')"
   ]
  },
  {
   "cell_type": "code",
   "execution_count": null,
   "id": "dda71833",
   "metadata": {
    "cell_style": "split",
    "slideshow": {
     "slide_type": "fragment"
    }
   },
   "outputs": [],
   "source": [
    "pd.merge(df1, df2, how = 'right', on = 'group')"
   ]
  },
  {
   "cell_type": "markdown",
   "id": "d80f88b2",
   "metadata": {
    "slideshow": {
     "slide_type": "slide"
    }
   },
   "source": [
    "merge on key with different label:"
   ]
  },
  {
   "cell_type": "code",
   "execution_count": null,
   "id": "ca093d04",
   "metadata": {
    "cell_style": "split",
    "slideshow": {
     "slide_type": "fragment"
    }
   },
   "outputs": [],
   "source": [
    "df1\n"
   ]
  },
  {
   "cell_type": "code",
   "execution_count": null,
   "id": "b7dc603d",
   "metadata": {
    "cell_style": "split",
    "slideshow": {
     "slide_type": "fragment"
    }
   },
   "outputs": [],
   "source": [
    "df3"
   ]
  },
  {
   "cell_type": "code",
   "execution_count": null,
   "id": "83dfde06",
   "metadata": {
    "slideshow": {
     "slide_type": "fragment"
    }
   },
   "outputs": [],
   "source": [
    "pd.merge(df1, df3, left_on = 'employee', right_on = 'name', how = 'inner')\n",
    "# what names will ne included?"
   ]
  },
  {
   "cell_type": "markdown",
   "id": "635dbf3b",
   "metadata": {
    "slideshow": {
     "slide_type": "slide"
    }
   },
   "source": [
    "Can do a bit more with merge: \n",
    "- merge matching on multiple columns as opposed to one.\n",
    "- df1.join(df2, how = ' '): similar to merge but less flexible. Joins on index. Faster than merge.\n"
   ]
  },
  {
   "cell_type": "code",
   "execution_count": null,
   "id": "0fe3c671",
   "metadata": {
    "slideshow": {
     "slide_type": "slide"
    }
   },
   "outputs": [],
   "source": [
    "df1.set_index('group').join(df2.set_index('group'), how = 'inner')"
   ]
  },
  {
   "cell_type": "markdown",
   "id": "48db18e5",
   "metadata": {
    "slideshow": {
     "slide_type": "slide"
    }
   },
   "source": [
    "Data in real life can be messy:\n",
    "\n",
    "- Often keys have mispellings or don't exactly match up\n",
    "- Determine whether key is similar enough.\n",
    "- Then link record if true."
   ]
  }
 ],
 "metadata": {
  "celltoolbar": "Slideshow",
  "kernelspec": {
   "display_name": "Python 3.9.12 ('base')",
   "language": "python",
   "name": "python3"
  },
  "language_info": {
   "codemirror_mode": {
    "name": "ipython",
    "version": 3
   },
   "file_extension": ".py",
   "mimetype": "text/x-python",
   "name": "python",
   "nbconvert_exporter": "python",
   "pygments_lexer": "ipython3",
   "version": "3.9.12"
  },
  "vscode": {
   "interpreter": {
    "hash": "3f0653bd30555679cc60e5853b2204587bc8607f0666d413a468e937b04317b4"
   }
  }
 },
 "nbformat": 4,
 "nbformat_minor": 5
}
