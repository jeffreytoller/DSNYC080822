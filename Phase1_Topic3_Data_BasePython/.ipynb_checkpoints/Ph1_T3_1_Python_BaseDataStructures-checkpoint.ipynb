{
 "cells": [
  {
   "cell_type": "markdown",
   "id": "e2e7800a",
   "metadata": {
    "cell_style": "center",
    "slideshow": {
     "slide_type": "slide"
    }
   },
   "source": [
    "<div style=\"color:white;\n",
    "           display:fill;\n",
    "           border-radius:5px;\n",
    "           background-color:#5642C5;\n",
    "           font-size:200%;\n",
    "           font-family:Arial;letter-spacing:0.5px\">\n",
    "\n",
    "<p width = 20%, style=\"padding: 10px;\n",
    "              color:white;\">\n",
    "Base Python: Data Structures\n",
    "              \n",
    "</p>\n",
    "</div>\n",
    "\n",
    "Data Science Cohort Live NYC Feb 2022\n",
    "<p>Phase 1: Topic 3</p>\n",
    "<br>\n",
    "<br>\n",
    "\n",
    "<div align = \"right\">\n",
    "<img src=\"Images/flatiron-school-logo.png\" align = \"right\" width=\"200\"/>\n",
    "</div>\n",
    "    \n",
    "    "
   ]
  },
  {
   "cell_type": "markdown",
   "id": "7f49335b",
   "metadata": {
    "cell_style": "split",
    "slideshow": {
     "slide_type": "slide"
    }
   },
   "source": [
    "As we pull in data from various sources:\n",
    "\n",
    "- Need to represent them in Python"
   ]
  },
  {
   "cell_type": "markdown",
   "id": "d9ef4060",
   "metadata": {
    "cell_style": "split",
    "slideshow": {
     "slide_type": "fragment"
    }
   },
   "source": [
    "Have choice of:\n",
    " - lists/tuples\n",
    " - dicts\n",
    " - combination of the above.\n"
   ]
  },
  {
   "cell_type": "markdown",
   "id": "6685000e",
   "metadata": {
    "slideshow": {
     "slide_type": "slide"
    }
   },
   "source": [
    "#### List representation of data for a sequence:"
   ]
  },
  {
   "cell_type": "code",
   "execution_count": 1,
   "id": "558264f9",
   "metadata": {},
   "outputs": [],
   "source": [
    "a_list = [3, 8, 2, 5, 4, 2]"
   ]
  },
  {
   "cell_type": "markdown",
   "id": "87a58f3d",
   "metadata": {
    "slideshow": {
     "slide_type": "fragment"
    }
   },
   "source": [
    "**Question**: List vs. tuple difference?"
   ]
  },
  {
   "cell_type": "markdown",
   "id": "af0aae85",
   "metadata": {
    "cell_style": "split",
    "slideshow": {
     "slide_type": "slide"
    }
   },
   "source": [
    "#### List/tuple representation of data:\n",
    "- List of (x,y) pairs. Or list of lists.\n",
    "- This, or simple generalizations this, are very common.\n",
    "- See this when reading text files / csvs."
   ]
  },
  {
   "cell_type": "code",
   "execution_count": 3,
   "id": "16c3e5cf",
   "metadata": {
    "cell_style": "split"
   },
   "outputs": [],
   "source": [
    "xy_list_of_tuples = [(3, 18), (4, 32), \n",
    "                     (5, 50), (6, 72), (8, 128)]"
   ]
  },
  {
   "cell_type": "markdown",
   "id": "6f0d46a2",
   "metadata": {
    "cell_style": "split",
    "slideshow": {
     "slide_type": "fragment"
    }
   },
   "source": [
    "#### Transforming list/tuple representation of data:\n",
    "Nested list of x values and y values."
   ]
  },
  {
   "cell_type": "code",
   "execution_count": 14,
   "id": "2ecc19b4",
   "metadata": {
    "cell_style": "split",
    "slideshow": {
     "slide_type": "fragment"
    }
   },
   "outputs": [],
   "source": [
    "xy_list_reformed = [[3,4,5,6,7],\n",
    "                    [18,32,50,72,128]]"
   ]
  },
  {
   "cell_type": "markdown",
   "id": "bf996997",
   "metadata": {
    "slideshow": {
     "slide_type": "slide"
    }
   },
   "source": [
    "**Question**: Can anyone help me transform our list of tuples to the nested list? I'm at a loss..."
   ]
  },
  {
   "cell_type": "code",
   "execution_count": 15,
   "id": "7a9ab96f",
   "metadata": {
    "slideshow": {
     "slide_type": "fragment"
    }
   },
   "outputs": [
    {
     "name": "stdout",
     "output_type": "stream",
     "text": [
      "[(3, 18), (4, 32), (5, 50), (6, 72), (8, 128)]\n",
      "[[3, 4, 5, 6, 7], [18, 32, 50, 72, 128]]\n"
     ]
    }
   ],
   "source": [
    "print(xy_list_of_tuples)\n",
    "print(xy_list_reformed)"
   ]
  },
  {
   "cell_type": "code",
   "execution_count": 16,
   "id": "ce6ed1f9",
   "metadata": {
    "slideshow": {
     "slide_type": "-"
    }
   },
   "outputs": [
    {
     "name": "stdout",
     "output_type": "stream",
     "text": [
      "[[3, 18], [4, 32], [5, 50], [6, 72], [8, 128]]\n"
     ]
    }
   ],
   "source": [
    "# help your dumb instructor out\n",
    "xy_list_from_tuples = [list(x) for x in xy_list_of_tuples]\n",
    "print(xy_list_from_tuples)"
   ]
  },
  {
   "cell_type": "code",
   "execution_count": 17,
   "id": "4a7b4b6a",
   "metadata": {},
   "outputs": [
    {
     "name": "stdout",
     "output_type": "stream",
     "text": [
      "[(3, 18), (4, 32), (5, 50), (6, 72), (7, 128)]\n"
     ]
    }
   ],
   "source": [
    "my_list_of_tuples = []\n",
    "for i, x in enumerate(xy_list_reformed[0]):\n",
    "    y = xy_list_reformed[1][i]\n",
    "    my_list_of_tuples.append( (x,y) )\n",
    "print(my_list_of_tuples)\n"
   ]
  },
  {
   "cell_type": "code",
   "execution_count": 18,
   "id": "df7429a1",
   "metadata": {},
   "outputs": [
    {
     "data": {
      "text/plain": [
       "[(3, 18), (4, 32), (5, 50), (6, 72), (7, 128)]"
      ]
     },
     "execution_count": 18,
     "metadata": {},
     "output_type": "execute_result"
    }
   ],
   "source": [
    "list(zip(xy_list_reformed[0],xy_list_reformed[1]))"
   ]
  },
  {
   "cell_type": "markdown",
   "id": "b1e2bad8",
   "metadata": {
    "slideshow": {
     "slide_type": "slide"
    }
   },
   "source": [
    "Maybe some names a column name associated with x and y.\n",
    "- Column names are first tuple/list in nested list."
   ]
  },
  {
   "cell_type": "code",
   "execution_count": 21,
   "id": "63479434",
   "metadata": {},
   "outputs": [],
   "source": [
    "namedxy_list_of_tuples = [('x', 'y'),(3, 18), (4, 32), (5, 50), (6, 72), (8, 128)]"
   ]
  },
  {
   "cell_type": "markdown",
   "id": "77c6458c",
   "metadata": {
    "slideshow": {
     "slide_type": "slide"
    }
   },
   "source": [
    "#### List of dictionaries representation of data:"
   ]
  },
  {
   "cell_type": "code",
   "execution_count": 22,
   "id": "c3d51f54",
   "metadata": {},
   "outputs": [],
   "source": [
    "xy_list_dict = [ {'x': 3, 'y': 18}, {'x': 4, 'y': 32}, {'x': 5, 'y': 50}, {'x': 6, 'y': 72}, {'x': 8, 'y': 128} ]"
   ]
  },
  {
   "cell_type": "markdown",
   "id": "185d8c88",
   "metadata": {},
   "source": [
    "Will see this a lot when using the csv DictReader"
   ]
  },
  {
   "cell_type": "code",
   "execution_count": 23,
   "id": "3abc33a8",
   "metadata": {
    "slideshow": {
     "slide_type": "fragment"
    }
   },
   "outputs": [
    {
     "data": {
      "text/plain": [
       "50"
      ]
     },
     "execution_count": 23,
     "metadata": {},
     "output_type": "execute_result"
    }
   ],
   "source": [
    "# Get me the y-value of the third entry\n",
    "xy_list_dict[2]['y']"
   ]
  },
  {
   "cell_type": "code",
   "execution_count": 25,
   "id": "36e0180f",
   "metadata": {},
   "outputs": [
    {
     "data": {
      "text/plain": [
       "[('x', 5), ('y', 50)]"
      ]
     },
     "execution_count": 25,
     "metadata": {},
     "output_type": "execute_result"
    }
   ],
   "source": [
    "list(xy_list_dict[2].items())"
   ]
  },
  {
   "cell_type": "markdown",
   "id": "f17742cd",
   "metadata": {
    "slideshow": {
     "slide_type": "slide"
    }
   },
   "source": [
    "#### Dictionary of lists representation:"
   ]
  },
  {
   "cell_type": "code",
   "execution_count": 26,
   "id": "3f572c3b",
   "metadata": {},
   "outputs": [],
   "source": [
    "xy_dict = {'x': [3,4,5,6,7], 'y': [18,32,50,72,128] }"
   ]
  },
  {
   "cell_type": "markdown",
   "id": "862ae2a2",
   "metadata": {
    "slideshow": {
     "slide_type": "fragment"
    }
   },
   "source": [
    "Convert list of dictionaries to dictionary of lists:"
   ]
  },
  {
   "cell_type": "code",
   "execution_count": 27,
   "id": "4f3ff666",
   "metadata": {},
   "outputs": [
    {
     "name": "stdout",
     "output_type": "stream",
     "text": [
      "[{'x': 3, 'y': 18}, {'x': 4, 'y': 32}, {'x': 5, 'y': 50}, {'x': 6, 'y': 72}, {'x': 8, 'y': 128}]\n",
      "{'x': [3, 4, 5, 6, 7], 'y': [18, 32, 50, 72, 128]}\n"
     ]
    }
   ],
   "source": [
    "print(xy_list_dict)\n",
    "print(xy_dict)"
   ]
  },
  {
   "cell_type": "code",
   "execution_count": null,
   "id": "4bd7b7a3",
   "metadata": {},
   "outputs": [],
   "source": []
  },
  {
   "cell_type": "code",
   "execution_count": 29,
   "id": "fa37aded",
   "metadata": {},
   "outputs": [
    {
     "name": "stdout",
     "output_type": "stream",
     "text": [
      "[['x', 'y'], [3, 18], [4, 32], [5, 50], [6, 72], [7, 128]]\n"
     ]
    }
   ],
   "source": [
    "# Be a good person. Do the right thing. Help your instructor.\n",
    "xy_values = list(xy_dict.values())\n",
    "xy_list_of_lists = [list(xy_dict.keys())]\n",
    "for i, x in enumerate(xy_values[0]):\n",
    "    y = xy_values[1][i]\n",
    "    xy_list_of_lists.append([x,y])\n",
    "\n",
    "print(xy_list_of_lists)"
   ]
  },
  {
   "cell_type": "markdown",
   "id": "38ec371f",
   "metadata": {
    "slideshow": {
     "slide_type": "slide"
    }
   },
   "source": [
    "#### Nested Dict:\n",
    "- Many formats are hierarchical/nested named structures.\n",
    "- JSON (a format you'll see soon) often gets translated to this in Python.\n",
    "\n",
    "An example:"
   ]
  },
  {
   "cell_type": "code",
   "execution_count": null,
   "id": "da8bd0e2",
   "metadata": {
    "slideshow": {
     "slide_type": "fragment"
    }
   },
   "outputs": [],
   "source": [
    "nested_dict = {'metadata': {'timestamp': '12-1-2020 08:25:03',\n",
    "                            'enter_by_user': 'Oscar the Grouch', 'entry_dbase': 'NORAD3' },\n",
    "              'data': {'missile_type': \"Taepodong 2\", \"hit_target\": False, 'land_location': [34, 129]} }"
   ]
  },
  {
   "cell_type": "code",
   "execution_count": null,
   "id": "6632fb98",
   "metadata": {
    "slideshow": {
     "slide_type": "subslide"
    }
   },
   "outputs": [],
   "source": [
    "nested_dict['data']['missile_type']"
   ]
  },
  {
   "cell_type": "markdown",
   "id": "73a1b740",
   "metadata": {
    "slideshow": {
     "slide_type": "fragment"
    }
   },
   "source": [
    "\n",
    "<div align = \"center\">\n",
    "<center><img src=\"Images/taepodong.png\" align = \"center\" width=\"400\"/></center>\n",
    "</div>\n"
   ]
  },
  {
   "cell_type": "markdown",
   "id": "21610c1d",
   "metadata": {
    "slideshow": {
     "slide_type": "slide"
    }
   },
   "source": [
    "#### Next up\n",
    "\n",
    "- We'll start opening files.\n",
    "- The data forms and structures from this lecture will pop up a lot.\n",
    "- Transforming between various forms will be your bread and butter."
   ]
  }
 ],
 "metadata": {
  "celltoolbar": "Slideshow",
  "kernelspec": {
   "display_name": "Python 3.9.12 ('base')",
   "language": "python",
   "name": "python3"
  },
  "language_info": {
   "codemirror_mode": {
    "name": "ipython",
    "version": 3
   },
   "file_extension": ".py",
   "mimetype": "text/x-python",
   "name": "python",
   "nbconvert_exporter": "python",
   "pygments_lexer": "ipython3",
   "version": "3.9.12"
  },
  "vscode": {
   "interpreter": {
    "hash": "3f0653bd30555679cc60e5853b2204587bc8607f0666d413a468e937b04317b4"
   }
  }
 },
 "nbformat": 4,
 "nbformat_minor": 5
}
